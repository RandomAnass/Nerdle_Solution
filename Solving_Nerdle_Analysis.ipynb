{
 "cells": [
  {
   "cell_type": "code",
   "execution_count": 3,
   "metadata": {
    "id": "Z8WmVLR7Q5u9"
   },
   "outputs": [],
   "source": [
    "%%capture\n",
    "!pip install jellyfish"
   ]
  },
  {
   "cell_type": "code",
   "execution_count": 2,
   "metadata": {},
   "outputs": [],
   "source": [
    "import numpy as np\n",
    "import jellyfish\n",
    "#import random\n",
    "import sys\n",
    "import matplotlib.pyplot as plt\n",
    "import re\n",
    "import os\n",
    "import pandas as pd\n",
    "import seaborn as sns\n",
    "import pickle\n",
    "%matplotlib inline\n"
   ]
  },
  {
   "cell_type": "code",
   "execution_count": 4,
   "metadata": {
    "colab": {
     "base_uri": "https://localhost:8080/"
    },
    "id": "eIBTEoIQRB0V",
    "outputId": "82002ddc-46cb-47ce-ea03-9e5b7cc556d6"
   },
   "outputs": [
    {
     "name": "stdout",
     "output_type": "stream",
     "text": [
      "56\n",
      "112\n",
      "140\n",
      "96\n"
     ]
    }
   ],
   "source": [
    "L=[\"1+2*3=7\",list(\"1+2*3=7\"),np.array(list(\"1+2*3=7\")),tuple(\"1+2*3=7\")]\n",
    "for v in L:\n",
    "  print(sys.getsizeof( v ))"
   ]
  },
  {
   "cell_type": "code",
   "execution_count": 6,
   "metadata": {},
   "outputs": [
    {
     "name": "stdout",
     "output_type": "stream",
     "text": [
      "C:\\Users\\anass\n"
     ]
    }
   ],
   "source": [
    "#importing the os module\n",
    "import os\n",
    "\n",
    "#to get the current working directory\n",
    "directory = os.getcwd()\n",
    "\n",
    "print(directory)"
   ]
  },
  {
   "cell_type": "code",
   "execution_count": null,
   "metadata": {},
   "outputs": [],
   "source": [
    "Using sets"
   ]
  },
  {
   "cell_type": "markdown",
   "metadata": {
    "id": "G4Xb3p8IXAlS"
   },
   "source": [
    "# MiniNerdle"
   ]
  },
  {
   "cell_type": "code",
   "execution_count": 7,
   "metadata": {
    "colab": {
     "base_uri": "https://localhost:8080/"
    },
    "id": "MPDRhx9FOXGv",
    "outputId": "bc583105-af97-40d7-9748-c8bdc91e6beb"
   },
   "outputs": [
    {
     "name": "stdout",
     "output_type": "stream",
     "text": [
      "3376\n"
     ]
    }
   ],
   "source": [
    "data_set=[]\n",
    "for i_1 in list(range(10))+list(\"+-\"):\n",
    "  for i_2 in list(range(10))+list(\"+-*/\")+[\"==\"]:\n",
    "    for i_3 in list(range(10))+list(\"+-*/\")+[\"==\"]:\n",
    "      for i_4 in list(range(10))+list(\"+-*/\")+[\"==\"]:\n",
    "        for i_5 in list(range(10))+list(\"+-*/\")+[\"==\"]:\n",
    "          for i_6 in list(range(10)):\n",
    "            try :\n",
    "              value= str(i_1)+str(i_2)+str(i_3)+str(i_4)+str(i_5)+str(i_6)\n",
    "              \n",
    "              evaluation = eval(value)\n",
    "              if type(evaluation) == type(True) and evaluation and \"//\" not in value:\n",
    "                data_set.append(value)\n",
    "\n",
    "            except:\n",
    "              continue\n",
    "print(len(data_set))\n",
    "#// is valid in python not in nerdle game"
   ]
  },
  {
   "cell_type": "markdown",
   "metadata": {
    "id": "oo6Tzse3dhet"
   },
   "source": [
    "3376 possibilities"
   ]
  },
  {
   "cell_type": "markdown",
   "metadata": {
    "id": "N6Rkl_oB-nHJ"
   },
   "source": [
    "\"1+2=03\" accepted in game, not by python though ⚠\n",
    "\n",
    "[answer](https://stackoverflow.com/a/9843145/14580023)"
   ]
  },
  {
   "cell_type": "code",
   "execution_count": 41,
   "metadata": {
    "colab": {
     "base_uri": "https://localhost:8080/"
    },
    "id": "2tVKtsEvedhl",
    "outputId": "adb80055-8e86-45a0-d3e9-1897fcedcdc4"
   },
   "outputs": [
    {
     "data": {
      "text/plain": [
       "30128"
      ]
     },
     "execution_count": 41,
     "metadata": {},
     "output_type": "execute_result"
    }
   ],
   "source": [
    "sys.getsizeof(data_set)"
   ]
  },
  {
   "cell_type": "markdown",
   "metadata": {
    "id": "IDY3_StGAiLa"
   },
   "source": [
    "with the change of zeros"
   ]
  },
  {
   "cell_type": "code",
   "execution_count": 3,
   "metadata": {
    "colab": {
     "base_uri": "https://localhost:8080/"
    },
    "id": "H4AzFlxtAkqg",
    "outputId": "2d55c9ba-bb90-4761-b8f0-11263296ba45"
   },
   "outputs": [
    {
     "name": "stdout",
     "output_type": "stream",
     "text": [
      "4687\n"
     ]
    }
   ],
   "source": [
    "\n",
    "\n",
    "data_set=[]\n",
    "for i_1 in list(range(10))+list(\"+-\"):\n",
    "  for i_2 in list(range(10))+list(\"+-*/\")+[\"==\"]:\n",
    "    for i_3 in list(range(10))+list(\"+-*/\")+[\"==\"]:\n",
    "      for i_4 in list(range(10))+list(\"+-*/\")+[\"==\"]:\n",
    "        for i_5 in list(range(10))+list(\"+-*/\")+[\"==\"]:\n",
    "          for i_6 in list(range(10)):\n",
    "            try :\n",
    "              value= str(i_1)+str(i_2)+str(i_3)+str(i_4)+str(i_5)+str(i_6)\n",
    "              valuev=re.sub(r'\\b0+(?!\\b)', '', value)\n",
    "              evaluation = eval(valuev)\n",
    "              if type(evaluation) == type(True) and evaluation and \"//\" not in value:\n",
    "                data_set.append(value)\n",
    "\n",
    "            except:\n",
    "              continue\n",
    "print(len(data_set))"
   ]
  },
  {
   "cell_type": "markdown",
   "metadata": {
    "id": "R5a-nd5NBFFQ"
   },
   "source": [
    "4687 possibilities"
   ]
  },
  {
   "cell_type": "code",
   "execution_count": 4,
   "metadata": {
    "colab": {
     "base_uri": "https://localhost:8080/"
    },
    "id": "QHftx518c0S-",
    "outputId": "3e96fca5-1652-4236-cd4a-6bbdbdd5974c"
   },
   "outputs": [],
   "source": [
    "data_set2 = [equa.replace(\"==\", \"=\") for equa in data_set]\n",
    "#print(data_set2)"
   ]
  },
  {
   "cell_type": "code",
   "execution_count": 5,
   "metadata": {
    "id": "QdHKFgdnYfsy"
   },
   "outputs": [],
   "source": [
    "filename = 'mini_nerdle_data'\n",
    "outfile = open(filename,'wb')\n",
    "pickle.dump(data_set2,outfile)\n",
    "outfile.close()"
   ]
  },
  {
   "cell_type": "code",
   "execution_count": 56,
   "metadata": {
    "id": "x51h_mZAYpRF"
   },
   "outputs": [],
   "source": [
    "infile = open(filename,'rb')\n",
    "data_set2 = pickle.load(infile)\n",
    "infile.close()"
   ]
  },
  {
   "cell_type": "markdown",
   "metadata": {
    "id": "F9O5_ctc9Ddz"
   },
   "source": [
    "![image.png](data:image/png;base64,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)"
   ]
  },
  {
   "cell_type": "markdown",
   "metadata": {
    "id": "1Rss1sdO89wH"
   },
   "source": [
    "![image.png](data:image/png;base64,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)"
   ]
  },
  {
   "cell_type": "markdown",
   "metadata": {
    "id": "5DQUjLoReQ42"
   },
   "source": [
    "![image.png](data:image/png;base64,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)"
   ]
  },
  {
   "cell_type": "markdown",
   "metadata": {
    "id": "imYd7BtXPLf0"
   },
   "source": [
    "Most diverse : "
   ]
  },
  {
   "cell_type": "markdown",
   "metadata": {
    "id": "4_6JQxBAVqje"
   },
   "source": [
    "create the game :"
   ]
  },
  {
   "cell_type": "markdown",
   "metadata": {
    "id": "bGcS-wYiaKi8"
   },
   "source": [
    "== instead of ="
   ]
  },
  {
   "cell_type": "code",
   "execution_count": 6,
   "metadata": {
    "colab": {
     "base_uri": "https://localhost:8080/"
    },
    "id": "oN-iMcHNhRld",
    "outputId": "e6aec65e-1d9d-4eb6-8fb1-f36c24db49f8"
   },
   "outputs": [
    {
     "name": "stdout",
     "output_type": "stream",
     "text": [
      "1=5+-4\n"
     ]
    }
   ],
   "source": [
    "\n",
    "\n",
    "to_find = np.random.choice(data_set2) #random.choice(data_set2) #\n",
    "print(to_find)"
   ]
  },
  {
   "cell_type": "markdown",
   "metadata": {
    "id": "N9wfSAohizAv"
   },
   "source": [
    "⚠ we need a more realistic data set"
   ]
  },
  {
   "cell_type": "code",
   "execution_count": 7,
   "metadata": {
    "colab": {
     "base_uri": "https://localhost:8080/"
    },
    "id": "F1rUgzGGVs0O",
    "outputId": "8d1c34aa-6611-48e6-ac47-5c07244231ff"
   },
   "outputs": [
    {
     "name": "stdout",
     "output_type": "stream",
     "text": [
      "attempt number  1\n"
     ]
    },
    {
     "name": "stdin",
     "output_type": "stream",
     "text": [
      " 1+2=03\n"
     ]
    },
    {
     "name": "stdout",
     "output_type": "stream",
     "text": [
      "invalid input\n"
     ]
    },
    {
     "name": "stdin",
     "output_type": "stream",
     "text": [
      " 6+7\n"
     ]
    },
    {
     "name": "stdout",
     "output_type": "stream",
     "text": [
      "invalid input\n"
     ]
    },
    {
     "name": "stdin",
     "output_type": "stream",
     "text": [
      " 6+7=13\n"
     ]
    },
    {
     "name": "stdout",
     "output_type": "stream",
     "text": [
      "---+--\n",
      "\n",
      "attempt number  2\n"
     ]
    },
    {
     "name": "stdin",
     "output_type": "stream",
     "text": [
      " 6+7=13\n"
     ]
    },
    {
     "name": "stdout",
     "output_type": "stream",
     "text": [
      "---+--\n",
      "---+--\n",
      "\n",
      "attempt number  3\n"
     ]
    },
    {
     "name": "stdin",
     "output_type": "stream",
     "text": [
      " 6+7=13\n"
     ]
    },
    {
     "name": "stdout",
     "output_type": "stream",
     "text": [
      "---+--\n",
      "---+--\n",
      "---+--\n",
      "\n",
      "attempt number  4\n"
     ]
    },
    {
     "name": "stdin",
     "output_type": "stream",
     "text": [
      " 6+7=13\n"
     ]
    },
    {
     "name": "stdout",
     "output_type": "stream",
     "text": [
      "---+--\n",
      "---+--\n",
      "---+--\n",
      "---+--\n",
      "\n",
      "attempt number  5\n"
     ]
    },
    {
     "name": "stdin",
     "output_type": "stream",
     "text": [
      " 6+7=13\n"
     ]
    },
    {
     "name": "stdout",
     "output_type": "stream",
     "text": [
      "---+--\n",
      "---+--\n",
      "---+--\n",
      "---+--\n",
      "---+--\n",
      "\n",
      "attempt number  6\n"
     ]
    },
    {
     "name": "stdin",
     "output_type": "stream",
     "text": [
      " 6+7=13\n"
     ]
    },
    {
     "name": "stdout",
     "output_type": "stream",
     "text": [
      "---+--\n",
      "---+--\n",
      "---+--\n",
      "---+--\n",
      "---+--\n",
      "---+--\n",
      "\n",
      "stupid bitch\n"
     ]
    }
   ],
   "source": [
    "to_find = np.random.choice(data_set2)\n",
    "attempt =0\n",
    "solved = False\n",
    "to_print_all=\"\"\n",
    "while attempt <6 and not solved:\n",
    "  attempt+=1\n",
    "  print(\"attempt number \", attempt)\n",
    "  check = False\n",
    "  while not check:\n",
    "    guess = str(input())\n",
    "    if len(guess)== 6:\n",
    "      try:\n",
    "        guess=guess.replace(\"=\",\"==\")\n",
    "        evaluation = eval(guess)\n",
    "        if type(evaluation) == type(True) and evaluation and \"//\" not in guess:\n",
    "          check = True\n",
    "        else:\n",
    "          print(\"invalid input\")\n",
    "      except:\n",
    "        print(\"invalid input\")\n",
    "    else:\n",
    "      print(\"invalid input\")\n",
    "\n",
    "  #guess.replace(\"==\",\"=\")\n",
    "  guess=guess.replace(\"==\",\"=\")\n",
    "  to_print =\"\"\n",
    "  for i in guess :\n",
    "    if i in to_find:\n",
    "      if guess.index(i)== to_find.index(i):\n",
    "        to_print+=\"+\"\n",
    "      else :\n",
    "        to_print+=u\"\\u00B1\"\n",
    "    else :\n",
    "      to_print+=\"-\"\n",
    "  if to_print==\"++++++\":\n",
    "    solved = True\n",
    "  to_print_all+=to_print+\"\\n\"\n",
    "  print(to_print_all)\n",
    "\n",
    "if solved :\n",
    "  print(\"noice\")\n",
    "else :\n",
    "  print(\"stupid bitch\")\n",
    "  ##attention for repetition"
   ]
  },
  {
   "cell_type": "code",
   "execution_count": 8,
   "metadata": {
    "colab": {
     "base_uri": "https://localhost:8080/"
    },
    "id": "0bxQN0z6s6t4",
    "outputId": "e3126a23-765d-4fa0-cff5-e7c5ed382701"
   },
   "outputs": [
    {
     "name": "stdout",
     "output_type": "stream",
     "text": [
      "-09=-9\n"
     ]
    }
   ],
   "source": [
    "print(to_find)"
   ]
  },
  {
   "cell_type": "code",
   "execution_count": 76,
   "metadata": {
    "id": "weSjG5h63a-_"
   },
   "outputs": [],
   "source": [
    "def find(s, ch):\n",
    "    return [i for i, ltr in enumerate(s) if ltr == ch]"
   ]
  },
  {
   "cell_type": "code",
   "execution_count": 77,
   "metadata": {
    "colab": {
     "base_uri": "https://localhost:8080/"
    },
    "id": "-KbYaDPx3Ydx",
    "outputId": "c4422f56-bc23-407c-eb79-ab72251ebc3e"
   },
   "outputs": [
    {
     "name": "stdout",
     "output_type": "stream",
     "text": [
      "attempt number  1\n",
      "6+7=13\n",
      "±±-±--\n",
      "\n",
      "attempt number  2\n",
      "+4+2=6\n",
      "±±-±--\n",
      "+±+±++\n",
      "\n",
      "attempt number  3\n",
      "+2+4=6\n",
      "±±-±--\n",
      "+±+±++\n",
      "++++++\n",
      "\n",
      "noice\n"
     ]
    }
   ],
   "source": [
    "to_find = np.random.choice(data_set2)\n",
    "attempt =0\n",
    "solved = False\n",
    "to_print_all=\"\"\n",
    "while attempt <6 and not solved:\n",
    "  attempt+=1\n",
    "  print(\"attempt number \", attempt)\n",
    "  check = False\n",
    "  while not check:\n",
    "    guess = str(input())\n",
    "    if len(guess)== 6:\n",
    "      try:\n",
    "        guess=guess.replace(\"=\",\"==\")\n",
    "        evaluation = eval(guess)\n",
    "        if type(evaluation) == type(True) and evaluation and \"//\" not in guess:\n",
    "          check = True\n",
    "        else:\n",
    "          print(\"invalid input\")\n",
    "      except:\n",
    "        print(\"invalid input\")\n",
    "    else:\n",
    "      print(\"invalid input\")\n",
    "\n",
    "  #guess.replace(\"==\",\"=\")\n",
    "  guess=guess.replace(\"==\",\"=\")\n",
    "  to_print =\"\"\n",
    "  for i in range(len(guess)) :\n",
    "    if guess[i] in to_find:\n",
    "      if guess[i] == to_find[i]:\n",
    "        to_print+=\"+\"\n",
    "      else :\n",
    "        to_print+=u\"\\u00B1\"\n",
    "    else :\n",
    "      to_print+=\"-\"\n",
    "  if to_print==\"++++++\":\n",
    "    solved = True\n",
    "  to_print_all+=to_print+\"\\n\"\n",
    "  print(to_print_all)\n",
    "\n",
    "if solved :\n",
    "  print(\"noice\")\n",
    "else :\n",
    "  print(\"stupid bitch\")\n",
    "  ##attention for repetition"
   ]
  },
  {
   "cell_type": "code",
   "execution_count": 9,
   "metadata": {
    "id": "3TpYYx1d0nVK"
   },
   "outputs": [],
   "source": [
    "\n",
    "def play():\n",
    "  to_find = np.random.choice(data_set2)\n",
    "  attempt =0\n",
    "  solved = False\n",
    "  to_print_all=\"\"\n",
    "  while attempt <6 and not solved:\n",
    "    attempt+=1\n",
    "    print(\"attempt number \", attempt)\n",
    "    check = False\n",
    "    while not check:\n",
    "      guess = str(input())\n",
    "      if len(guess)== 6:\n",
    "        try:\n",
    "          guess=guess.replace(\"=\",\"==\")\n",
    "          guessev=re.sub(r'\\b0+(?!\\b)', '', guess)\n",
    "          evaluation = eval(guessev)\n",
    "          if type(evaluation) == type(True) and evaluation and \"//\" not in guess:\n",
    "            check = True\n",
    "          else:\n",
    "            print(\"invalid input\")\n",
    "        except:\n",
    "          print(\"invalid input\")\n",
    "      else:\n",
    "        print(\"invalid input\")\n",
    "\n",
    "    #guess.replace(\"==\",\"=\")\n",
    "    guess=guess.replace(\"==\",\"=\")\n",
    "    to_print =\"\"\n",
    "    for i in range(len(guess)) :\n",
    "      if guess[i] in to_find:\n",
    "        if guess[i] == to_find[i]:\n",
    "          to_print+=\"+\"\n",
    "        else :\n",
    "          to_print+=u\"\\u00B1\"\n",
    "      else :\n",
    "        to_print+=\"-\"\n",
    "    if to_print==\"++++++\":\n",
    "      solved = True\n",
    "    to_print_all+=to_print+\"\\n\"\n",
    "    print(to_print_all)\n",
    "\n",
    "  if solved :\n",
    "    print(\"noice\")\n",
    "  else :\n",
    "    print(\"stupid bitch\")\n",
    "    print(to_find)"
   ]
  },
  {
   "cell_type": "code",
   "execution_count": 10,
   "metadata": {
    "colab": {
     "base_uri": "https://localhost:8080/",
     "height": 36
    },
    "id": "5A-hxK3Kklw3",
    "outputId": "cbe3737f-a6ad-4974-f3db-b4c5fe245325"
   },
   "outputs": [
    {
     "name": "stdout",
     "output_type": "stream",
     "text": [
      "attempt number  1\n"
     ]
    },
    {
     "name": "stdin",
     "output_type": "stream",
     "text": [
      " 1+2=03\n"
     ]
    },
    {
     "name": "stdout",
     "output_type": "stream",
     "text": [
      "+--±±-\n",
      "\n",
      "attempt number  2\n"
     ]
    },
    {
     "name": "stdin",
     "output_type": "stream",
     "text": [
      " 1=-4+5\n"
     ]
    },
    {
     "name": "stdout",
     "output_type": "stream",
     "text": [
      "+--±±-\n",
      "+±+--+\n",
      "\n",
      "attempt number  3\n"
     ]
    },
    {
     "name": "stdin",
     "output_type": "stream",
     "text": [
      " 14-9=5\n"
     ]
    },
    {
     "name": "stdout",
     "output_type": "stream",
     "text": [
      "+--±±-\n",
      "+±+--+\n",
      "+-+-++\n",
      "\n",
      "attempt number  4\n"
     ]
    },
    {
     "name": "stdin",
     "output_type": "stream",
     "text": [
      " 10-5=5\n"
     ]
    },
    {
     "name": "stdout",
     "output_type": "stream",
     "text": [
      "+--±±-\n",
      "+±+--+\n",
      "+-+-++\n",
      "++++++\n",
      "\n",
      "noice\n"
     ]
    }
   ],
   "source": [
    "play()"
   ]
  },
  {
   "cell_type": "markdown",
   "metadata": {
    "id": "-3XEX3Bh5eY7"
   },
   "source": [
    "Stats"
   ]
  },
  {
   "cell_type": "code",
   "execution_count": 11,
   "metadata": {
    "colab": {
     "base_uri": "https://localhost:8080/",
     "height": 265
    },
    "id": "IatsWqQD5fjB",
    "outputId": "29e985d6-7cba-4882-d81c-a36293c816fa"
   },
   "outputs": [
    {
     "data": {
      "image/png": "[encoded data removed]",
      "text/plain": [
       "<Figure size 432x288 with 1 Axes>"
      ]
     },
     "metadata": {
      "needs_background": "light"
     },
     "output_type": "display_data"
    }
   ],
   "source": [
    "big_data = ' '.join(data_set2)\n",
    "stat_dict = {}\n",
    "for character in list(range(10))+list(\"+-*/\"):\n",
    "  \n",
    "  stat_dict[str(character)] =big_data.count(str(character))\n",
    "\n",
    "\n",
    "plt.bar(list(stat_dict.keys()), stat_dict.values(), color='g')\n",
    "plt.show();"
   ]
  },
  {
   "cell_type": "code",
   "execution_count": 12,
   "metadata": {
    "colab": {
     "base_uri": "https://localhost:8080/",
     "height": 265
    },
    "id": "5Y7Hi9tD7Vsw",
    "outputId": "98541573-2e34-451d-d974-f9323c572810"
   },
   "outputs": [
    {
     "data": {
      "image/png": "[encoded data removed]",
      "text/plain": [
       "<Figure size 432x288 with 1 Axes>"
      ]
     },
     "metadata": {
      "needs_background": "light"
     },
     "output_type": "display_data"
    }
   ],
   "source": [
    "sorted_dict = dict(sorted(stat_dict.items(), key=lambda item: item[1], reverse=True))\n",
    "plt.bar(list(sorted_dict.keys()), sorted_dict.values(), color='b');\n"
   ]
  },
  {
   "cell_type": "markdown",
   "metadata": {
    "id": "UerHM5Xi8puf"
   },
   "source": [
    "I chose : 1+2=03"
   ]
  },
  {
   "cell_type": "code",
   "execution_count": null,
   "metadata": {
    "id": "DG1mWC268myI"
   },
   "outputs": [],
   "source": [
    "initial = \"1+2=03\""
   ]
  },
  {
   "cell_type": "code",
   "execution_count": 104,
   "metadata": {
    "colab": {
     "base_uri": "https://localhost:8080/"
    },
    "id": "PylYczdj9rdI",
    "outputId": "14daf031-a470-4723-b3cd-d81ede4fbeeb"
   },
   "outputs": [
    {
     "name": "stdout",
     "output_type": "stream",
     "text": [
      "attempt number  1\n",
      "1+2=03\n",
      "---±±±\n",
      "\n",
      "attempt number  2\n",
      "\n",
      "invalid input\n",
      "-3=0-3\n",
      "---±±±\n",
      "-±±±-±\n",
      "\n",
      "attempt number  3\n",
      "0**3=0\n",
      "---±±±\n",
      "-±±±-±\n",
      "+±±±±+\n",
      "\n",
      "attempt number  4\n",
      "0=0**0\n",
      "invalid input\n",
      "0=0**3\n",
      "---±±±\n",
      "-±±±-±\n",
      "+±±±±+\n",
      "++±±+±\n",
      "\n",
      "attempt number  5\n",
      "0=03*-0\n",
      "invalid input\n",
      "0=03*0\n",
      "---±±±\n",
      "-±±±-±\n",
      "+±±±±+\n",
      "++±±+±\n",
      "++±±++\n",
      "\n",
      "attempt number  6\n",
      "0=30*0\n",
      "---±±±\n",
      "-±±±-±\n",
      "+±±±±+\n",
      "++±±+±\n",
      "++±±++\n",
      "+++±++\n",
      "\n",
      "stupid bitch\n",
      "0=39*0\n"
     ]
    }
   ],
   "source": [
    "play()"
   ]
  },
  {
   "cell_type": "code",
   "execution_count": null,
   "metadata": {
    "id": "_2eO5uccDPT5"
   },
   "outputs": [],
   "source": [
    "to_find = np.random.choice(data_set2)\n",
    "\n",
    "\n",
    "\n",
    "initial = \"1+2=03\"\n",
    "current_data = data_set2.copy()\n",
    "current_data.remove(initial)\n",
    "attempt =0\n",
    "solved = False\n",
    "guess = initial\n",
    "#to_print_all=\"\"\n",
    "while not solved:\n",
    "  attempt+=1\n",
    "  # print(\"attempt number \", attempt)\n",
    "  check = False\n",
    "  to_print =\"\"\n",
    "  for i in range(len(guess)) :\n",
    "    if guess[i] in to_find:\n",
    "      if guess[i] == to_find[i]:\n",
    "        to_print+=\"+\"\n",
    "      else :\n",
    "        to_print+=u\"\\u00B1\"\n",
    "    else :\n",
    "      to_print+=\"-\"\n",
    "  if to_print==\"++++++\":\n",
    "    solved = True\n",
    "  #to_print_all+=to_print+\"\\n\"\n",
    "\n",
    "  #looking for a solution\n",
    "  #not best \n",
    "  for k in range(len(to_print)):\n",
    "    for possible_guess in current_data[:]:\n",
    "      if to_print[k]==\"+\":\n",
    "        if guess[k]!=possible_guess[k] :\n",
    "          current_data.remove(possible_guess)\n",
    "          continue \n",
    "      elif to_print[k]==\"-\":\n",
    "        if guess[k] in possible_guess :\n",
    "          current_data.remove(possible_guess)\n",
    "          continue \n",
    "      elif to_print[k]==u\"\\u00B1\":\n",
    "        if (guess[k] not in possible_guess) or guess[k]== possible_guess[k]:\n",
    "          current_data.remove(possible_guess)\n",
    "          continue \n",
    "\n",
    "if solved :\n",
    "  print(\"noice\")\n",
    "else :\n",
    "  print(\"stupid bitch\")\n",
    "  print(to_find)\n",
    "\n",
    "\n",
    "  "
   ]
  },
  {
   "cell_type": "code",
   "execution_count": 30,
   "metadata": {
    "colab": {
     "base_uri": "https://localhost:8080/"
    },
    "id": "Yj9j4v7SDetL",
    "outputId": "8ecad2fd-5a94-4c96-ea69-b7625eb5fada"
   },
   "outputs": [
    {
     "name": "stdout",
     "output_type": "stream",
     "text": [
      "2=+6-4\n",
      "2=+6-4 4\n"
     ]
    }
   ],
   "source": [
    "to_find = np.random.choice(data_set2)\n",
    "print(to_find)\n",
    "\n",
    "\n",
    "initial = \"1+2=03\"\n",
    "current_data = data_set2.copy()\n",
    "current_data.remove(initial) \n",
    "attempt =0\n",
    "solved = False\n",
    "guess = initial\n",
    "#to_print_all=\"\"\n",
    "\n",
    "def remove_guess(k,possible_guess):\n",
    "  if to_print[k]==\"+\":\n",
    "    if guess[k]!=possible_guess[k] :\n",
    "      return True \n",
    "  elif to_print[k]==\"-\":\n",
    "    if guess[k] in possible_guess :\n",
    "      return True \n",
    "  elif to_print[k]==u\"\\u00B1\":\n",
    "    if (guess[k] not in possible_guess) or guess[k]==possible_guess[k] :\n",
    "      return True \n",
    "  return False\n",
    "\n",
    "while not solved:\n",
    "  attempt+=1\n",
    "  # print(\"attempt number \", attempt)\n",
    "\n",
    "  to_print =\"\"\n",
    "  for i in range(len(guess)) :\n",
    "    if guess[i] in to_find:\n",
    "      if guess[i] == to_find[i]:\n",
    "        to_print+=\"+\"\n",
    "      else :\n",
    "        to_print+=u\"\\u00B1\"\n",
    "    else :\n",
    "      to_print+=\"-\"\n",
    "  if to_print==\"++++++\":\n",
    "    solved = True\n",
    "  #to_print_all+=to_print+\"\\n\"\n",
    "\n",
    "  #looking for a solution\n",
    "  #not best\n",
    "  if not solved: \n",
    "    for k in range(len(to_print)):\n",
    "      current_data = [possible_guess for possible_guess in current_data if not remove_guess(k,possible_guess)]\n",
    "    guess = current_data[0]\n",
    "  else :\n",
    "    print(guess, attempt)\n",
    "  \n",
    "\n",
    "\n"
   ]
  },
  {
   "cell_type": "code",
   "execution_count": 31,
   "metadata": {
    "id": "zc7tarQY-siy"
   },
   "outputs": [],
   "source": [
    "\n",
    "\n",
    "def how_good(initial,to_find):\n",
    "\n",
    "  current_data = data_set2.copy()\n",
    "  current_data.remove(initial) \n",
    "  attempt =0\n",
    "  solved = False\n",
    "  guess = initial\n",
    "  #to_print_all=\"\"\n",
    "\n",
    "  def remove_guess(k,possible_guess):\n",
    "    if to_print[k]==\"+\":\n",
    "      if guess[k]!=possible_guess[k] :\n",
    "        return True \n",
    "    elif to_print[k]==\"-\":\n",
    "      if guess[k] in possible_guess :\n",
    "        return True \n",
    "    elif to_print[k]==u\"\\u00B1\":\n",
    "      if (guess[k] not in possible_guess) or guess[k]==possible_guess[k] :\n",
    "        return True \n",
    "    return False\n",
    "\n",
    "  while not solved:\n",
    "    attempt+=1\n",
    "    # print(\"attempt number \", attempt)\n",
    "\n",
    "    to_print =\"\"\n",
    "    for i in range(len(guess)) :\n",
    "      if guess[i] in to_find:\n",
    "        if guess[i] == to_find[i]:\n",
    "          to_print+=\"+\"\n",
    "        else :\n",
    "          to_print+=u\"\\u00B1\"\n",
    "      else :\n",
    "        to_print+=\"-\"\n",
    "    if to_print==\"++++++\":\n",
    "      solved = True\n",
    "    #to_print_all+=to_print+\"\\n\"\n",
    "\n",
    "    #looking for a solution\n",
    "    #not best\n",
    "    if not solved: \n",
    "      for k in range(len(to_print)):\n",
    "        current_data = [possible_guess for possible_guess in current_data if not remove_guess(k,possible_guess)]\n",
    "      guess = current_data[0]\n",
    "    else :\n",
    "      return attempt\n",
    "    \n"
   ]
  },
  {
   "cell_type": "code",
   "execution_count": 33,
   "metadata": {
    "id": "E3t3-dV4OiIE"
   },
   "outputs": [],
   "source": [
    "initial =\"1+2=03\"\n",
    "all_attempts = [how_good(initial,to_find_) for to_find_ in data_set2]"
   ]
  },
  {
   "cell_type": "code",
   "execution_count": 34,
   "metadata": {
    "colab": {
     "base_uri": "https://localhost:8080/"
    },
    "id": "6_m2WOthO_qD",
    "outputId": "7ed8f368-7a9a-4c40-e98d-46f9f1374733"
   },
   "outputs": [
    {
     "data": {
      "text/plain": [
       "count    4687.000000\n",
       "mean        4.633241\n",
       "std         1.813224\n",
       "min         1.000000\n",
       "25%         3.000000\n",
       "50%         4.000000\n",
       "75%         6.000000\n",
       "max        11.000000\n",
       "dtype: float64"
      ]
     },
     "execution_count": 34,
     "metadata": {},
     "output_type": "execute_result"
    }
   ],
   "source": [
    "s = pd.Series(all_attempts)\n",
    "s.describe()"
   ]
  },
  {
   "cell_type": "code",
   "execution_count": 35,
   "metadata": {
    "id": "D1-F-Nj4PM6J"
   },
   "outputs": [],
   "source": [
    "def how_good_random(initial,to_find):\n",
    "\n",
    "  current_data = data_set2.copy()\n",
    "  current_data.remove(initial) \n",
    "  attempt =0\n",
    "  solved = False\n",
    "  guess = initial\n",
    "  #to_print_all=\"\"\n",
    "\n",
    "  def remove_guess(k,possible_guess):\n",
    "    if to_print[k]==\"+\":\n",
    "      if guess[k]!=possible_guess[k] :\n",
    "        return True \n",
    "    elif to_print[k]==\"-\":\n",
    "      if guess[k] in possible_guess :\n",
    "        return True \n",
    "    elif to_print[k]==u\"\\u00B1\":\n",
    "      if (guess[k] not in possible_guess) or guess[k]==possible_guess[k] :\n",
    "        return True \n",
    "    return False\n",
    "\n",
    "  while not solved:\n",
    "    attempt+=1\n",
    "    # print(\"attempt number \", attempt)\n",
    "\n",
    "    to_print =\"\"\n",
    "    for i in range(len(guess)) :\n",
    "      if guess[i] in to_find:\n",
    "        if guess[i] == to_find[i]:\n",
    "          to_print+=\"+\"\n",
    "        else :\n",
    "          to_print+=u\"\\u00B1\"\n",
    "      else :\n",
    "        to_print+=\"-\"\n",
    "    if to_print==\"++++++\":\n",
    "      solved = True\n",
    "    #to_print_all+=to_print+\"\\n\"\n",
    "\n",
    "    #looking for a solution\n",
    "    #not best\n",
    "    if not solved: \n",
    "      for k in range(len(to_print)):\n",
    "        current_data = [possible_guess for possible_guess in current_data if not remove_guess(k,possible_guess)]\n",
    "      guess =  np.random.choice(current_data)\n",
    "    else :\n",
    "      return attempt\n",
    "    "
   ]
  },
  {
   "cell_type": "code",
   "execution_count": 36,
   "metadata": {
    "colab": {
     "base_uri": "https://localhost:8080/"
    },
    "id": "p-70c3jlPNIa",
    "outputId": "79957716-1ece-4152-b644-df70c5a9175a"
   },
   "outputs": [
    {
     "data": {
      "text/plain": [
       "count    4687.000000\n",
       "mean        4.299125\n",
       "std         1.542029\n",
       "min         1.000000\n",
       "25%         3.000000\n",
       "50%         4.000000\n",
       "75%         5.000000\n",
       "max        11.000000\n",
       "dtype: float64"
      ]
     },
     "execution_count": 36,
     "metadata": {},
     "output_type": "execute_result"
    }
   ],
   "source": [
    "initial =\"1+2=03\"\n",
    "all_attempts = [how_good_random(initial,to_find_) for to_find_ in data_set2]\n",
    "s = pd.Series(all_attempts)\n",
    "s.describe()"
   ]
  },
  {
   "cell_type": "code",
   "execution_count": 37,
   "metadata": {
    "colab": {
     "base_uri": "https://localhost:8080/",
     "height": 265
    },
    "id": "tjvE3W4lQzN7",
    "outputId": "32c71d43-1d74-481b-e0ad-a7e08dc24819"
   },
   "outputs": [
    {
     "data": {
      "image/png": "[encoded data removed]",
      "text/plain": [
       "<Figure size 432x288 with 1 Axes>"
      ]
     },
     "metadata": {
      "needs_background": "light"
     },
     "output_type": "display_data"
    }
   ],
   "source": [
    "plt.boxplot(all_attempts)\n",
    " \n",
    "# show plot\n",
    "plt.show()"
   ]
  },
  {
   "cell_type": "markdown",
   "metadata": {
    "id": "c9HyCLrGQ8D8"
   },
   "source": [
    "Comparing many initializations "
   ]
  },
  {
   "cell_type": "code",
   "execution_count": 51,
   "metadata": {
    "id": "XqPuwHlOROYj"
   },
   "outputs": [],
   "source": [
    "initializations = [\"1+2=03\",\"5+7=12\",\"-0+1=1\",\"02+1=3\",\"2-1=+1\",\"000=00\",\"-2*0=0\",\"+2-1=1\"]\n",
    "data = [np.array([how_good_random(initial,to_find_) for to_find_ in data_set2]) for initial in initializations]\n",
    " \n",
    "\n"
   ]
  },
  {
   "cell_type": "code",
   "execution_count": 52,
   "metadata": {
    "colab": {
     "base_uri": "https://localhost:8080/",
     "height": 424
    },
    "id": "E25X9XDgVDZt",
    "outputId": "58c666fb-74d0-4df4-f46d-fe8064e96f2d"
   },
   "outputs": [
    {
     "data": {
      "text/html": [
       "\n",
       "  <div id=\"df-fe5d7703-3810-4794-84e6-a7b50310c0f5\">\n",
       "    <div class=\"colab-df-container\">\n",
       "      <div>\n",
       "<style scoped>\n",
       "    .dataframe tbody tr th:only-of-type {\n",
       "        vertical-align: middle;\n",
       "    }\n",
       "\n",
       "    .dataframe tbody tr th {\n",
       "        vertical-align: top;\n",
       "    }\n",
       "\n",
       "    .dataframe thead th {\n",
       "        text-align: right;\n",
       "    }\n",
       "</style>\n",
       "<table border=\"1\" class=\"dataframe\">\n",
       "  <thead>\n",
       "    <tr style=\"text-align: right;\">\n",
       "      <th></th>\n",
       "      <th>1+2=03</th>\n",
       "      <th>5+7=12</th>\n",
       "      <th>-0+1=1</th>\n",
       "      <th>02+1=3</th>\n",
       "      <th>2-1=+1</th>\n",
       "      <th>000=00</th>\n",
       "      <th>-2*0=0</th>\n",
       "      <th>+2-1=1</th>\n",
       "    </tr>\n",
       "  </thead>\n",
       "  <tbody>\n",
       "    <tr>\n",
       "      <th>0</th>\n",
       "      <td>5</td>\n",
       "      <td>4</td>\n",
       "      <td>10</td>\n",
       "      <td>6</td>\n",
       "      <td>5</td>\n",
       "      <td>2</td>\n",
       "      <td>3</td>\n",
       "      <td>5</td>\n",
       "    </tr>\n",
       "    <tr>\n",
       "      <th>1</th>\n",
       "      <td>4</td>\n",
       "      <td>4</td>\n",
       "      <td>2</td>\n",
       "      <td>3</td>\n",
       "      <td>4</td>\n",
       "      <td>8</td>\n",
       "      <td>5</td>\n",
       "      <td>3</td>\n",
       "    </tr>\n",
       "    <tr>\n",
       "      <th>2</th>\n",
       "      <td>3</td>\n",
       "      <td>3</td>\n",
       "      <td>6</td>\n",
       "      <td>3</td>\n",
       "      <td>4</td>\n",
       "      <td>8</td>\n",
       "      <td>4</td>\n",
       "      <td>4</td>\n",
       "    </tr>\n",
       "    <tr>\n",
       "      <th>3</th>\n",
       "      <td>5</td>\n",
       "      <td>3</td>\n",
       "      <td>9</td>\n",
       "      <td>2</td>\n",
       "      <td>5</td>\n",
       "      <td>4</td>\n",
       "      <td>6</td>\n",
       "      <td>6</td>\n",
       "    </tr>\n",
       "    <tr>\n",
       "      <th>4</th>\n",
       "      <td>4</td>\n",
       "      <td>3</td>\n",
       "      <td>4</td>\n",
       "      <td>6</td>\n",
       "      <td>4</td>\n",
       "      <td>5</td>\n",
       "      <td>9</td>\n",
       "      <td>5</td>\n",
       "    </tr>\n",
       "    <tr>\n",
       "      <th>...</th>\n",
       "      <td>...</td>\n",
       "      <td>...</td>\n",
       "      <td>...</td>\n",
       "      <td>...</td>\n",
       "      <td>...</td>\n",
       "      <td>...</td>\n",
       "      <td>...</td>\n",
       "      <td>...</td>\n",
       "    </tr>\n",
       "    <tr>\n",
       "      <th>4682</th>\n",
       "      <td>4</td>\n",
       "      <td>4</td>\n",
       "      <td>4</td>\n",
       "      <td>4</td>\n",
       "      <td>4</td>\n",
       "      <td>5</td>\n",
       "      <td>7</td>\n",
       "      <td>4</td>\n",
       "    </tr>\n",
       "    <tr>\n",
       "      <th>4683</th>\n",
       "      <td>4</td>\n",
       "      <td>4</td>\n",
       "      <td>3</td>\n",
       "      <td>4</td>\n",
       "      <td>7</td>\n",
       "      <td>5</td>\n",
       "      <td>4</td>\n",
       "      <td>4</td>\n",
       "    </tr>\n",
       "    <tr>\n",
       "      <th>4684</th>\n",
       "      <td>4</td>\n",
       "      <td>4</td>\n",
       "      <td>5</td>\n",
       "      <td>3</td>\n",
       "      <td>5</td>\n",
       "      <td>5</td>\n",
       "      <td>5</td>\n",
       "      <td>6</td>\n",
       "    </tr>\n",
       "    <tr>\n",
       "      <th>4685</th>\n",
       "      <td>6</td>\n",
       "      <td>4</td>\n",
       "      <td>7</td>\n",
       "      <td>4</td>\n",
       "      <td>3</td>\n",
       "      <td>5</td>\n",
       "      <td>3</td>\n",
       "      <td>5</td>\n",
       "    </tr>\n",
       "    <tr>\n",
       "      <th>4686</th>\n",
       "      <td>4</td>\n",
       "      <td>4</td>\n",
       "      <td>4</td>\n",
       "      <td>4</td>\n",
       "      <td>3</td>\n",
       "      <td>4</td>\n",
       "      <td>5</td>\n",
       "      <td>5</td>\n",
       "    </tr>\n",
       "  </tbody>\n",
       "</table>\n",
       "<p>4687 rows × 8 columns</p>\n",
       "</div>\n",
       "      <button class=\"colab-df-convert\" onclick=\"convertToInteractive('df-fe5d7703-3810-4794-84e6-a7b50310c0f5')\"\n",
       "              title=\"Convert this dataframe to an interactive table.\"\n",
       "              style=\"display:none;\">\n",
       "        \n",
       "  <svg xmlns=\"http://www.w3.org/2000/svg\" height=\"24px\"viewBox=\"0 0 24 24\"\n",
       "       width=\"24px\">\n",
       "    <path d=\"M0 0h24v24H0V0z\" fill=\"none\"/>\n",
       "    <path d=\"M18.56 5.44l.94 2.06.94-2.06 2.06-.94-2.06-.94-.94-2.06-.94 2.06-2.06.94zm-11 1L8.5 8.5l.94-2.06 2.06-.94-2.06-.94L8.5 2.5l-.94 2.06-2.06.94zm10 10l.94 2.06.94-2.06 2.06-.94-2.06-.94-.94-2.06-.94 2.06-2.06.94z\"/><path d=\"M17.41 7.96l-1.37-1.37c-.4-.4-.92-.59-1.43-.59-.52 0-1.04.2-1.43.59L10.3 9.45l-7.72 7.72c-.78.78-.78 2.05 0 2.83L4 21.41c.39.39.9.59 1.41.59.51 0 1.02-.2 1.41-.59l7.78-7.78 2.81-2.81c.8-.78.8-2.07 0-2.86zM5.41 20L4 18.59l7.72-7.72 1.47 1.35L5.41 20z\"/>\n",
       "  </svg>\n",
       "      </button>\n",
       "      \n",
       "  <style>\n",
       "    .colab-df-container {\n",
       "      display:flex;\n",
       "      flex-wrap:wrap;\n",
       "      gap: 12px;\n",
       "    }\n",
       "\n",
       "    .colab-df-convert {\n",
       "      background-color: #E8F0FE;\n",
       "      border: none;\n",
       "      border-radius: 50%;\n",
       "      cursor: pointer;\n",
       "      display: none;\n",
       "      fill: #1967D2;\n",
       "      height: 32px;\n",
       "      padding: 0 0 0 0;\n",
       "      width: 32px;\n",
       "    }\n",
       "\n",
       "    .colab-df-convert:hover {\n",
       "      background-color: #E2EBFA;\n",
       "      box-shadow: 0px 1px 2px rgba(60, 64, 67, 0.3), 0px 1px 3px 1px rgba(60, 64, 67, 0.15);\n",
       "      fill: #174EA6;\n",
       "    }\n",
       "\n",
       "    [theme=dark] .colab-df-convert {\n",
       "      background-color: #3B4455;\n",
       "      fill: #D2E3FC;\n",
       "    }\n",
       "\n",
       "    [theme=dark] .colab-df-convert:hover {\n",
       "      background-color: #434B5C;\n",
       "      box-shadow: 0px 1px 3px 1px rgba(0, 0, 0, 0.15);\n",
       "      filter: drop-shadow(0px 1px 2px rgba(0, 0, 0, 0.3));\n",
       "      fill: #FFFFFF;\n",
       "    }\n",
       "  </style>\n",
       "\n",
       "      <script>\n",
       "        const buttonEl =\n",
       "          document.querySelector('#df-fe5d7703-3810-4794-84e6-a7b50310c0f5 button.colab-df-convert');\n",
       "        buttonEl.style.display =\n",
       "          google.colab.kernel.accessAllowed ? 'block' : 'none';\n",
       "\n",
       "        async function convertToInteractive(key) {\n",
       "          const element = document.querySelector('#df-fe5d7703-3810-4794-84e6-a7b50310c0f5');\n",
       "          const dataTable =\n",
       "            await google.colab.kernel.invokeFunction('convertToInteractive',\n",
       "                                                     [key], {});\n",
       "          if (!dataTable) return;\n",
       "\n",
       "          const docLinkHtml = 'Like what you see? Visit the ' +\n",
       "            '<a target=\"_blank\" href=https://colab.research.google.com/notebooks/data_table.ipynb>data table notebook</a>'\n",
       "            + ' to learn more about interactive tables.';\n",
       "          element.innerHTML = '';\n",
       "          dataTable['output_type'] = 'display_data';\n",
       "          await google.colab.output.renderOutput(dataTable, element);\n",
       "          const docLink = document.createElement('div');\n",
       "          docLink.innerHTML = docLinkHtml;\n",
       "          element.appendChild(docLink);\n",
       "        }\n",
       "      </script>\n",
       "    </div>\n",
       "  </div>\n",
       "  "
      ],
      "text/plain": [
       "      1+2=03  5+7=12  -0+1=1  02+1=3  2-1=+1  000=00  -2*0=0  +2-1=1\n",
       "0          5       4      10       6       5       2       3       5\n",
       "1          4       4       2       3       4       8       5       3\n",
       "2          3       3       6       3       4       8       4       4\n",
       "3          5       3       9       2       5       4       6       6\n",
       "4          4       3       4       6       4       5       9       5\n",
       "...      ...     ...     ...     ...     ...     ...     ...     ...\n",
       "4682       4       4       4       4       4       5       7       4\n",
       "4683       4       4       3       4       7       5       4       4\n",
       "4684       4       4       5       3       5       5       5       6\n",
       "4685       6       4       7       4       3       5       3       5\n",
       "4686       4       4       4       4       3       4       5       5\n",
       "\n",
       "[4687 rows x 8 columns]"
      ]
     },
     "execution_count": 52,
     "metadata": {},
     "output_type": "execute_result"
    }
   ],
   "source": [
    "df_data = pd.DataFrame(data, index =initializations).T\n",
    "df_data"
   ]
  },
  {
   "cell_type": "code",
   "execution_count": 53,
   "metadata": {
    "colab": {
     "base_uri": "https://localhost:8080/",
     "height": 265
    },
    "id": "ciijTg51WPy_",
    "outputId": "651a3b12-978b-409a-8f82-d3bf131af7f0"
   },
   "outputs": [
    {
     "data": {
      "image/png": "[encoded data removed]",
      "text/plain": [
       "<Figure size 432x288 with 1 Axes>"
      ]
     },
     "metadata": {
      "needs_background": "light"
     },
     "output_type": "display_data"
    }
   ],
   "source": [
    "sns.boxplot( data=df_data);"
   ]
  },
  {
   "cell_type": "code",
   "execution_count": null,
   "metadata": {
    "id": "rSzkTCSGW2ps"
   },
   "outputs": [],
   "source": [
    "#find best one among all of them"
   ]
  },
  {
   "cell_type": "markdown",
   "metadata": {
    "id": "3lPn0OGG749B"
   },
   "source": [
    "first vs random "
   ]
  },
  {
   "cell_type": "markdown",
   "metadata": {
    "id": "kAuvJq-tPsNl"
   },
   "source": [
    "Taking one randomly is better than taking the first but that's not the best option overall."
   ]
  },
  {
   "cell_type": "markdown",
   "metadata": {
    "id": "4wv2Zh5Jf960"
   },
   "source": [
    "Minimax"
   ]
  },
  {
   "cell_type": "markdown",
   "metadata": {},
   "source": [
    "## Similarity : "
   ]
  },
  {
   "cell_type": "code",
   "execution_count": null,
   "metadata": {},
   "outputs": [],
   "source": [
    "from difflib import SequenceMatcher\n",
    "\n",
    "def similar(a, b):\n",
    "    return SequenceMatcher(None, a, b).ratio()"
   ]
  },
  {
   "cell_type": "code",
   "execution_count": null,
   "metadata": {},
   "outputs": [],
   "source": [
    "#damerau_levenshtein_distance\n",
    "#jaro_distance\n",
    "#levenshtein_distance\n",
    "#hamming_distance\n",
    "#jaro_winkler_similarity\n",
    "\n",
    "print(jellyfish.levenshtein_distance(u'1+2=03', u'5+6=11'))\n",
    "print(jellyfish.damerau_levenshtein_distance(u'1+2=03', u'5+6=11'))\n",
    "print(jellyfish.jaro_distance(u'1+2=03', u'5+6=11'))\n",
    "print(jellyfish.hamming_distance(u'1+2=03', u'5+6=11'))\n",
    "print(jellyfish.jaro_winkler_similarity(u'1+2=03', u'5+6=11'))\n",
    "print(similar('1+2=03', '5+6=11'))\n",
    "\n",
    "print(jellyfish.levenshtein_distance(u'1+2=03', u'ddd'))\n",
    "print(jellyfish.damerau_levenshtein_distance(u'1+2=03', u\"ddd\"))\n",
    "print(jellyfish.jaro_distance(u'1+2=03', u\"ddd\"))\n",
    "print(jellyfish.hamming_distance(u'1+2=03', u\"ddd\"))\n",
    "print(jellyfish.jaro_winkler_similarity(u'1+2=03', u\"ddd\"))\n",
    "print(similar('1+2=03', \"ddd\"))\n",
    "\n",
    "#redefine using for"
   ]
  },
  {
   "cell_type": "markdown",
   "metadata": {},
   "source": [
    "### Solvers with similarity :"
   ]
  },
  {
   "cell_type": "code",
   "execution_count": null,
   "metadata": {},
   "outputs": [],
   "source": [
    "def pick_by_distance_1(last_guesss,current_data):\n",
    "  distances ={}\n",
    "  for x_d in current_data:\n",
    "    distances[x_d]=jellyfish.jaro_distance(last_guesss ,x_d )\n",
    "  return min(distances, key=distances.get)\n",
    "\n",
    "def pick_by_distance_2(last_guesss,current_data):\n",
    "  distances ={}\n",
    "  for x_d in current_data:\n",
    "    distances[x_d]=jellyfish.jaro_winkler_similarity(last_guesss ,x_d )\n",
    "  return min(distances, key=distances.get)\n",
    "\n",
    "def pick_by_distance_3(last_guesss,current_data):\n",
    "  distances ={}\n",
    "  for x_d in current_data:\n",
    "    distances[x_d]=similar(last_guesss ,x_d )\n",
    "  return min(distances, key=distances.get)\n",
    "\n",
    "def pick_by_distance_4(last_guesss,current_data):\n",
    "  distances ={}\n",
    "  for x_d in current_data:\n",
    "    distances[x_d]=jellyfish.hamming_distance(last_guesss ,x_d )\n",
    "  return max(distances, key=distances.get)"
   ]
  },
  {
   "cell_type": "code",
   "execution_count": null,
   "metadata": {},
   "outputs": [],
   "source": [
    "def how_good_distance_1(initial,to_find):\n",
    "\n",
    "  current_data = data_set2.copy()\n",
    "  current_data.remove(initial) \n",
    "  attempt =0\n",
    "  solved = False\n",
    "  guess = initial\n",
    "  #to_print_all=\"\"\n",
    "\n",
    "  def remove_guess(k,possible_guess):\n",
    "    if to_print[k]==\"+\":\n",
    "      if guess[k]!=possible_guess[k] :\n",
    "        return True \n",
    "    elif to_print[k]==\"-\":\n",
    "      if guess[k] in possible_guess :\n",
    "        return True \n",
    "    elif to_print[k]==u\"\\u00B1\":\n",
    "      if (guess[k] not in possible_guess) or guess[k]==possible_guess[k] :\n",
    "        return True \n",
    "    return False\n",
    "\n",
    "  while not solved:\n",
    "    attempt+=1\n",
    "    # print(\"attempt number \", attempt)\n",
    "\n",
    "    to_print =\"\"\n",
    "    for i in range(len(guess)) :\n",
    "      if guess[i] in to_find:\n",
    "        if guess[i] == to_find[i]:\n",
    "          to_print+=\"+\"\n",
    "        else :\n",
    "          to_print+=u\"\\u00B1\"\n",
    "      else :\n",
    "        to_print+=\"-\"\n",
    "    if to_print==\"++++++\":\n",
    "      solved = True\n",
    "    #to_print_all+=to_print+\"\\n\"\n",
    "\n",
    "    #looking for a solution\n",
    "    #not best\n",
    "    if not solved: \n",
    "      for k in range(len(to_print)):\n",
    "        current_data = [possible_guess for possible_guess in current_data if not remove_guess(k,possible_guess)]\n",
    "      guess =  pick_by_distance_1(guess,current_data)\n",
    "    else :\n",
    "      return attempt\n",
    "\n",
    "\n",
    "def how_good_distance_2(initial,to_find):\n",
    "\n",
    "  current_data = data_set2.copy()\n",
    "  current_data.remove(initial) \n",
    "  attempt =0\n",
    "  solved = False\n",
    "  guess = initial\n",
    "  #to_print_all=\"\"\n",
    "\n",
    "  def remove_guess(k,possible_guess):\n",
    "    if to_print[k]==\"+\":\n",
    "      if guess[k]!=possible_guess[k] :\n",
    "        return True \n",
    "    elif to_print[k]==\"-\":\n",
    "      if guess[k] in possible_guess :\n",
    "        return True \n",
    "    elif to_print[k]==u\"\\u00B1\":\n",
    "      if (guess[k] not in possible_guess) or guess[k]==possible_guess[k] :\n",
    "        return True \n",
    "    return False\n",
    "\n",
    "  while not solved:\n",
    "    attempt+=1\n",
    "    # print(\"attempt number \", attempt)\n",
    "\n",
    "    to_print =\"\"\n",
    "    for i in range(len(guess)) :\n",
    "      if guess[i] in to_find:\n",
    "        if guess[i] == to_find[i]:\n",
    "          to_print+=\"+\"\n",
    "        else :\n",
    "          to_print+=u\"\\u00B1\"\n",
    "      else :\n",
    "        to_print+=\"-\"\n",
    "    if to_print==\"++++++\":\n",
    "      solved = True\n",
    "    #to_print_all+=to_print+\"\\n\"\n",
    "\n",
    "    #looking for a solution\n",
    "    #not best\n",
    "    if not solved: \n",
    "      for k in range(len(to_print)):\n",
    "        current_data = [possible_guess for possible_guess in current_data if not remove_guess(k,possible_guess)]\n",
    "      guess =  pick_by_distance_2(guess,current_data)\n",
    "    else :\n",
    "      return attempt\n",
    "\n",
    "def how_good_distance_3(initial,to_find):\n",
    "\n",
    "  current_data = data_set2.copy()\n",
    "  current_data.remove(initial) \n",
    "  attempt =0\n",
    "  solved = False\n",
    "  guess = initial\n",
    "  #to_print_all=\"\"\n",
    "\n",
    "  def remove_guess(k,possible_guess):\n",
    "    if to_print[k]==\"+\":\n",
    "      if guess[k]!=possible_guess[k] :\n",
    "        return True \n",
    "    elif to_print[k]==\"-\":\n",
    "      if guess[k] in possible_guess :\n",
    "        return True \n",
    "    elif to_print[k]==u\"\\u00B1\":\n",
    "      if (guess[k] not in possible_guess) or guess[k]==possible_guess[k] :\n",
    "        return True \n",
    "    return False\n",
    "\n",
    "  while not solved:\n",
    "    attempt+=1\n",
    "    # print(\"attempt number \", attempt)\n",
    "\n",
    "    to_print =\"\"\n",
    "    for i in range(len(guess)) :\n",
    "      if guess[i] in to_find:\n",
    "        if guess[i] == to_find[i]:\n",
    "          to_print+=\"+\"\n",
    "        else :\n",
    "          to_print+=u\"\\u00B1\"\n",
    "      else :\n",
    "        to_print+=\"-\"\n",
    "    if to_print==\"++++++\":\n",
    "      solved = True\n",
    "    #to_print_all+=to_print+\"\\n\"\n",
    "\n",
    "    #looking for a solution\n",
    "    #not best\n",
    "    if not solved: \n",
    "      for k in range(len(to_print)):\n",
    "        current_data = [possible_guess for possible_guess in current_data if not remove_guess(k,possible_guess)]\n",
    "      guess =  pick_by_distance_3(guess,current_data)\n",
    "    else :\n",
    "      return attempt\n",
    "\n",
    "def how_good_distance_4(initial,to_find):\n",
    "\n",
    "  current_data = data_set2.copy()\n",
    "  current_data.remove(initial) \n",
    "  attempt =0\n",
    "  solved = False\n",
    "  guess = initial\n",
    "  #to_print_all=\"\"\n",
    "\n",
    "  def remove_guess(k,possible_guess):\n",
    "    if to_print[k]==\"+\":\n",
    "      if guess[k]!=possible_guess[k] :\n",
    "        return True \n",
    "    elif to_print[k]==\"-\":\n",
    "      if guess[k] in possible_guess :\n",
    "        return True \n",
    "    elif to_print[k]==u\"\\u00B1\":\n",
    "      if (guess[k] not in possible_guess) or guess[k]==possible_guess[k] :\n",
    "        return True \n",
    "    return False\n",
    "\n",
    "  while not solved:\n",
    "    attempt+=1\n",
    "    # print(\"attempt number \", attempt)\n",
    "\n",
    "    to_print =\"\"\n",
    "    for i in range(len(guess)) :\n",
    "      if guess[i] in to_find:\n",
    "        if guess[i] == to_find[i]:\n",
    "          to_print+=\"+\"\n",
    "        else :\n",
    "          to_print+=u\"\\u00B1\"\n",
    "      else :\n",
    "        to_print+=\"-\"\n",
    "    if to_print==\"++++++\":\n",
    "      solved = True\n",
    "    #to_print_all+=to_print+\"\\n\"\n",
    "\n",
    "    #looking for a solution\n",
    "    #not best\n",
    "    if not solved: \n",
    "      for k in range(len(to_print)):\n",
    "        current_data = [possible_guess for possible_guess in current_data if not remove_guess(k,possible_guess)]\n",
    "      guess =  pick_by_distance_4(guess,current_data)\n",
    "    else :\n",
    "      return attempt\n",
    "\n"
   ]
  },
  {
   "cell_type": "code",
   "execution_count": null,
   "metadata": {},
   "outputs": [],
   "source": [
    "initial= \"1+2=03\"\n",
    "solvers =[how_good,how_good_random,how_good_distance_1,how_good_distance_2,how_good_distance_3,how_good_distance_4]\n",
    "data = [np.array([solver(initial,to_find_) for to_find_ in data_set2]) for solver in solvers]\n",
    "df_data = pd.DataFrame(data, index =[solver.__name__ for solver in solvers]).T\n",
    "df_data\n"
   ]
  },
  {
   "cell_type": "code",
   "execution_count": null,
   "metadata": {},
   "outputs": [],
   "source": [
    "sns.boxplot( data=df_data);"
   ]
  },
  {
   "cell_type": "code",
   "execution_count": null,
   "metadata": {},
   "outputs": [],
   "source": [
    "for solver in solvers :\n",
    "  print(solver.__name__)\n",
    "  print(pd.Series(df_data[solver.__name__]).describe())"
   ]
  },
  {
   "cell_type": "markdown",
   "metadata": {},
   "source": [
    "#### Frequency score"
   ]
  },
  {
   "cell_type": "code",
   "execution_count": null,
   "metadata": {},
   "outputs": [],
   "source": [
    "sorted_dict = dict(sorted(stat_dict.items(), key=lambda item: item[1], reverse=True))\n",
    "def normalize(d, target=1.0):\n",
    "   raw = sum(d.values())\n",
    "   factor = target/raw\n",
    "   return {key:value*factor for key,value in d.items()}\n",
    "sorted_dict_nor=normalize(sorted_dict, target=1.0)\n",
    "\n",
    "def scoring(some_string):\n",
    "  return sum([sorted_dict_nor[i]*some_string.count(i) for i in some_string if i!=\"=\"])\n"
   ]
  },
  {
   "cell_type": "code",
   "execution_count": null,
   "metadata": {},
   "outputs": [],
   "source": [
    "def pick_by_score(current_data):\n",
    "  distances ={}\n",
    "  for x_d in current_data:\n",
    "    distances[x_d]=scoring( x_d )\n",
    "  return max(distances, key=distances.get)"
   ]
  },
  {
   "cell_type": "code",
   "execution_count": null,
   "metadata": {},
   "outputs": [],
   "source": [
    "def how_good_score(initial,to_find):\n",
    "\n",
    "  current_data = data_set2.copy()\n",
    "  current_data.remove(initial) \n",
    "  attempt =0\n",
    "  solved = False\n",
    "  guess = initial\n",
    "  #to_print_all=\"\"\n",
    "\n",
    "  def remove_guess(k,possible_guess):\n",
    "    if to_print[k]==\"+\":\n",
    "      if guess[k]!=possible_guess[k] :\n",
    "        return True \n",
    "    elif to_print[k]==\"-\":\n",
    "      if guess[k] in possible_guess :\n",
    "        return True \n",
    "    elif to_print[k]==u\"\\u00B1\":\n",
    "      if (guess[k] not in possible_guess) or guess[k]==possible_guess[k] :\n",
    "        return True \n",
    "    return False\n",
    "\n",
    "  while not solved:\n",
    "    attempt+=1\n",
    "    # print(\"attempt number \", attempt)\n",
    "\n",
    "    to_print =\"\"\n",
    "    for i in range(len(guess)) :\n",
    "      if guess[i] in to_find:\n",
    "        if guess[i] == to_find[i]:\n",
    "          to_print+=\"+\"\n",
    "        else :\n",
    "          to_print+=u\"\\u00B1\"\n",
    "      else :\n",
    "        to_print+=\"-\"\n",
    "    if to_print==\"++++++\":\n",
    "      solved = True\n",
    "    #to_print_all+=to_print+\"\\n\"\n",
    "\n",
    "    #looking for a solution\n",
    "    #not best\n",
    "    if not solved: \n",
    "      for k in range(len(to_print)):\n",
    "        current_data = [possible_guess for possible_guess in current_data if not remove_guess(k,possible_guess)]\n",
    "      guess =  pick_by_score(current_data)\n",
    "    else :\n",
    "      return attempt"
   ]
  },
  {
   "cell_type": "code",
   "execution_count": null,
   "metadata": {},
   "outputs": [],
   "source": [
    "initial= \"1+2=03\"\n",
    "solvers =[how_good_score, how_good,how_good_random,how_good_distance_1,how_good_distance_2,how_good_distance_3,how_good_distance_4]\n",
    "data = [np.array([solver(initial,to_find_) for to_find_ in data_set2]) for solver in solvers]\n",
    "df_data = pd.DataFrame(data, index =[solver.__name__ for solver in solvers]).T\n",
    "sns.boxplot( data=df_data);"
   ]
  },
  {
   "cell_type": "markdown",
   "metadata": {
    "id": "iY-clV86W746"
   },
   "source": [
    "# Nerdle"
   ]
  },
  {
   "cell_type": "markdown",
   "metadata": {
    "id": "WVO7Tt8fZSwk"
   },
   "source": [
    "## Creating data_set of formulas :"
   ]
  },
  {
   "cell_type": "code",
   "execution_count": 2,
   "metadata": {},
   "outputs": [
    {
     "name": "stdout",
     "output_type": "stream",
     "text": [
      "0.0\n"
     ]
    }
   ],
   "source": [
    "import time\n",
    "start = time.process_time()\n",
    "# your code here    \n",
    "print(time.process_time() - start)"
   ]
  },
  {
   "cell_type": "code",
   "execution_count": 17,
   "metadata": {},
   "outputs": [
    {
     "name": "stdout",
     "output_type": "stream",
     "text": [
      "11.6 µs ± 2.71 µs per loop (mean ± std. dev. of 7 runs, 100000 loops each)\n"
     ]
    }
   ],
   "source": [
    "def add_value_time():\n",
    "  L=[\"555\",\"840\",\"555\",\"dsfsefzef\"]\n",
    "  i_1,i_2,i_3,i_4,i_5,i_6,i_7,i_8=\"1\",\"2\",\"+\",\"5\",\"7\",\"==\",\"6\",\"9\"\n",
    "  value= str(i_1)+str(i_2)+str(i_3)+str(i_4)+str(i_5)+str(i_6)+str(i_7)+str(i_8)\n",
    "  valuev=re.sub(r'\\b0+(?!\\b)', '', value)\n",
    "  evaluation = eval(valuev)\n",
    "  if type(evaluation) == type(True) and evaluation and \"//\" not in value:\n",
    "    L.append(value)\n",
    "\n",
    "%timeit  add_value_time()"
   ]
  },
  {
   "cell_type": "code",
   "execution_count": null,
   "metadata": {},
   "outputs": [],
   "source": [
    "%%script false --no-raise-error\n",
    "\n",
    "from multiprocessing import Pool, Manager, cpu_count\n",
    "from functools import partial\n",
    "import re\n",
    "import pickle\n",
    "\n",
    "\n",
    "def process_value(data_set_N, i_1):\n",
    "    print(i_1)\n",
    "    for i_2 in list(range(10))+list(\"+-*/\")+[\"==\"]:\n",
    "        print(i_1,i_2)\n",
    "        for i_3 in list(range(10))+list(\"+-*/\")+[\"==\"]:\n",
    "            for i_4 in list(range(10))+list(\"+-*/\")+[\"==\"]:\n",
    "                for i_5 in list(range(10))+list(\"+-*/\")+[\"==\"]:\n",
    "                    for i_6 in list(range(10))+list(\"+-*/\")+[\"==\"]:\n",
    "                        for i_7 in list(range(10))+list(\"+-*/\")+[\"==\"]:\n",
    "                            for i_8 in list(range(10)):\n",
    "                                try:\n",
    "                                    value = str(i_1)+str(i_2)+str(i_3)+str(i_4)+str(i_5)+str(i_6)+str(i_7)+str(i_8)\n",
    "                                    if '//' in value:\n",
    "                                        continue\n",
    "                                    valuev = re.sub(r'\\b0+(?!\\b)', '', value)\n",
    "                                    evaluation = eval(valuev)\n",
    "                                    if type(evaluation) == type(True) and evaluation:\n",
    "                                        data_set_N.append(value)\n",
    "                                except:\n",
    "                                    continue\n",
    "\n",
    "if __name__ == '__main__':\n",
    "    with Manager() as manager:\n",
    "        data_set_N = manager.list()\n",
    "        # The iterable is the i_1 list:\n",
    "        i_1_list = list(range(10))+list(\"+-\")\n",
    "        POOL_SIZE = min(cpu_count(), len(i_1_list))\n",
    "        pool = Pool(POOL_SIZE)\n",
    "        pool.map(partial(process_value, data_set_N), i_1_list)\n",
    "        pool.close()\n",
    "        pool.join()\n",
    "        data_set_N=list(data_set_N)\n",
    "    print(len(data_set_N))\n",
    "    data_set_N2 = [equa.replace(\"==\", \"=\") for equa in data_set_N]\n",
    "    filename_N = 'Nerdle_data'\n",
    "    outfile_N = open(filename_N,'wb')\n",
    "    pickle.dump(data_set_N2,outfile_N)\n",
    "    outfile_N.close()"
   ]
  },
  {
   "cell_type": "markdown",
   "metadata": {},
   "source": [
    "## Upload Data set :"
   ]
  },
  {
   "cell_type": "code",
   "execution_count": null,
   "metadata": {},
   "outputs": [],
   "source": [
    "filename_N = 'Nerdle_data'"
   ]
  },
  {
   "cell_type": "code",
   "execution_count": null,
   "metadata": {
    "id": "uMIQ-U6JZnmU"
   },
   "outputs": [],
   "source": [
    "infile_N = open(filename_N,'rb')\n",
    "data_set_N2 = pickle.load(infile_N)\n",
    "infile_N.close()"
   ]
  },
  {
   "cell_type": "code",
   "execution_count": null,
   "metadata": {},
   "outputs": [],
   "source": [
    "sys.getsizeof(data_set_N2)"
   ]
  },
  {
   "cell_type": "markdown",
   "metadata": {},
   "source": [
    "### From text file :"
   ]
  },
  {
   "cell_type": "code",
   "execution_count": 17,
   "metadata": {},
   "outputs": [
    {
     "name": "stdout",
     "output_type": "stream",
     "text": [
      "17723\n"
     ]
    }
   ],
   "source": [
    "filename_N = r\"C:\\Users\\anass\\Programmation\\Nerdle_Solution\\nerdle_wordlist.txt\"\n",
    "with open(filename_N, 'r') as file:\n",
    "    data_set_N2 = file.read().replace('\\n', ',')\n",
    "\n",
    "data_set_N2=data_set_N2.split(\",\")\n",
    "del data_set_N2[-1]\n",
    "\n",
    "print(len(data_set_N2))"
   ]
  },
  {
   "cell_type": "markdown",
   "metadata": {
    "id": "kqyWAB_7apT1"
   },
   "source": [
    "## The game :"
   ]
  },
  {
   "cell_type": "code",
   "execution_count": 18,
   "metadata": {
    "id": "yZS85XBNao2B"
   },
   "outputs": [],
   "source": [
    "\n",
    "def play():\n",
    "    to_find = np.random.choice(data_set_N2)\n",
    "    attempt =0\n",
    "    solved = False\n",
    "    to_print_all=\"\"\n",
    "    while attempt <10 and not solved: #to change to 6 or something\n",
    "        attempt+=1\n",
    "        print(\"attempt number \", attempt)\n",
    "        check = False\n",
    "        while not check:\n",
    "            guess = str(input())\n",
    "            if len(guess)== 8:\n",
    "                try:\n",
    "                    guess=guess.replace(\"=\",\"==\")\n",
    "                    guessev=re.sub(r'\\b0+(?!\\b)', '', guess)\n",
    "                    evaluation = eval(guessev)\n",
    "                    if type(evaluation) == type(True) and evaluation and \"//\" not in guess:\n",
    "                        check = True\n",
    "                    else:\n",
    "                        print(\"invalid input\")\n",
    "                except:\n",
    "                    print(\"invalid input\")\n",
    "            else:\n",
    "                print(\"invalid input\")\n",
    "\n",
    "            #guess.replace(\"==\",\"=\")\n",
    "        guess=guess.replace(\"==\",\"=\")\n",
    "        to_print =\"\"\n",
    "        for i in range(len(guess)) :\n",
    "            if guess[i] in to_find:\n",
    "                if guess[i] == to_find[i]:\n",
    "                    to_print+=\"+\"\n",
    "                else :\n",
    "                    to_print+=u\"\\u00B1\"\n",
    "            else :\n",
    "                to_print+=\"-\"\n",
    "        if to_print==\"++++++++\":\n",
    "            solved = True\n",
    "        to_print_all+=to_print+\"\\n\"\n",
    "        print(to_print_all)\n",
    "\n",
    "    if solved :\n",
    "        print(\"noice\")\n",
    "    else :\n",
    "        print(\"stupid bitch\")\n",
    "        print(to_find)"
   ]
  },
  {
   "cell_type": "code",
   "execution_count": 19,
   "metadata": {},
   "outputs": [
    {
     "name": "stdout",
     "output_type": "stream",
     "text": [
      "attempt number  1\n",
      "12+63=75\n",
      "-±+±-+--\n",
      "\n",
      "attempt number  2\n",
      "26+48=74\n",
      "-±+±-+--\n",
      "+±+±-+-±\n",
      "\n",
      "attempt number  3\n",
      "24+04=28\n",
      "-±+±-+--\n",
      "+±+±-+-±\n",
      "+++-±+±-\n",
      "\n",
      "attempt number  4\n",
      "24+26=50\n",
      "-±+±-+--\n",
      "+±+±-+-±\n",
      "+++-±+±-\n",
      "++++±+--\n",
      "\n",
      "attempt number  5\n",
      "24+24=48\n",
      "-±+±-+--\n",
      "+±+±-+-±\n",
      "+++-±+±-\n",
      "++++±+--\n",
      "++++±++-\n",
      "\n",
      "attempt number  6\n",
      "24+22=46\n",
      "-±+±-+--\n",
      "+±+±-+-±\n",
      "+++-±+±-\n",
      "++++±+--\n",
      "++++±++-\n",
      "++++++++\n",
      "\n",
      "noice\n"
     ]
    }
   ],
   "source": [
    "play()"
   ]
  },
  {
   "cell_type": "markdown",
   "metadata": {
    "id": "5BYGlV1obHAu"
   },
   "source": [
    "## Stats :"
   ]
  },
  {
   "cell_type": "code",
   "execution_count": null,
   "metadata": {},
   "outputs": [],
   "source": [
    "#sns.countplot\n",
    "#sns.barplot\n",
    "#pd.DataFrame.from_dict\n"
   ]
  },
  {
   "cell_type": "code",
   "execution_count": 20,
   "metadata": {
    "id": "xD4ltWfobJOF"
   },
   "outputs": [],
   "source": [
    "big_data = ' '.join(data_set_N2)\n",
    "stat_dict = {}\n",
    "for character in list(range(10))+list(\"+-*/\"):\n",
    "    stat_dict[str(character)] =big_data.count(str(character))"
   ]
  },
  {
   "cell_type": "code",
   "execution_count": 21,
   "metadata": {
    "id": "g1x6XVXubZQT"
   },
   "outputs": [
    {
     "data": {
      "image/png": "[encoded data removed]",
      "text/plain": [
       "<Figure size 432x288 with 1 Axes>"
      ]
     },
     "metadata": {
      "needs_background": "light"
     },
     "output_type": "display_data"
    }
   ],
   "source": [
    "sorted_dict = dict(sorted(stat_dict.items(), key=lambda item: item[1], reverse=True))\n",
    "plt.bar(list(sorted_dict.keys()), sorted_dict.values(), color='g');\n"
   ]
  },
  {
   "cell_type": "markdown",
   "metadata": {
    "id": "7bTMtD9Wb55f"
   },
   "source": [
    "## Solvers :"
   ]
  },
  {
   "cell_type": "code",
   "execution_count": 22,
   "metadata": {
    "id": "7pES-rKnb8KE"
   },
   "outputs": [],
   "source": [
    "def how_good_N(initial,to_find):\n",
    "\n",
    "    current_data = data_set_N2.copy()\n",
    "    if initial in current_data:\n",
    "        current_data.remove(initial)\n",
    "    attempt =0\n",
    "    solved = False\n",
    "    guess = initial\n",
    "    #to_print_all=\"\"\n",
    "\n",
    "    def remove_guess(k,possible_guess):\n",
    "        if to_print[k]==\"+\":\n",
    "            if guess[k]!=possible_guess[k] :\n",
    "                return True \n",
    "        elif to_print[k]==\"-\":\n",
    "            if guess[k] in possible_guess :\n",
    "                return True \n",
    "        elif to_print[k]==u\"\\u00B1\":\n",
    "            if (guess[k] not in possible_guess) or guess[k]==possible_guess[k] :\n",
    "                return True \n",
    "        return False\n",
    "\n",
    "    while not solved:\n",
    "        attempt+=1\n",
    "        # print(\"attempt number \", attempt)\n",
    "\n",
    "        to_print =\"\"\n",
    "        for i in range(len(guess)) :\n",
    "            if guess[i] in to_find:\n",
    "                if guess[i] == to_find[i]:\n",
    "                    to_print+=\"+\"\n",
    "                else :\n",
    "                    to_print+=u\"\\u00B1\"\n",
    "            else :\n",
    "                to_print+=\"-\"\n",
    "        if to_print==\"++++++++\":\n",
    "            solved = True\n",
    "        #to_print_all+=to_print+\"\\n\"\n",
    "\n",
    "\n",
    "        if not solved: \n",
    "            for k in range(len(to_print)):\n",
    "                current_data = [possible_guess for possible_guess in current_data if not remove_guess(k,possible_guess)]\n",
    "            guess = current_data[0]\n",
    "        else :\n",
    "            return attempt\n",
    "\n"
   ]
  },
  {
   "cell_type": "code",
   "execution_count": 60,
   "metadata": {
    "id": "lulHBJYdckCt"
   },
   "outputs": [],
   "source": [
    "def how_good_random_N(initial,to_find):\n",
    "\n",
    "    current_data = data_set_N2.copy()\n",
    "    if initial in current_data:\n",
    "        current_data.remove(initial) \n",
    "    attempt =0\n",
    "    solved = False\n",
    "    guess = initial\n",
    "    #to_print_all=\"\"\n",
    "\n",
    "    def remove_guess(k,possible_guess):\n",
    "        if to_print[k]==\"+\":\n",
    "            if guess[k]!=possible_guess[k] :\n",
    "                return True \n",
    "        elif to_print[k]==\"-\":\n",
    "            if guess[k] in possible_guess :\n",
    "                return True \n",
    "        elif to_print[k]==u\"\\u00B1\":\n",
    "            if (guess[k] not in possible_guess) or guess[k]==possible_guess[k] :\n",
    "                return True \n",
    "        return False\n",
    "\n",
    "    while not solved:\n",
    "        attempt+=1\n",
    "        # print(\"attempt number \", attempt)\n",
    "\n",
    "        to_print =\"\"\n",
    "        for i in range(len(guess)) :\n",
    "            if guess[i] in to_find:\n",
    "                if guess[i] == to_find[i]:\n",
    "                    to_print+=\"+\"\n",
    "                else :\n",
    "                    to_print+=u\"\\u00B1\"\n",
    "            else :\n",
    "                to_print+=\"-\"\n",
    "        if to_print==\"++++++++\":\n",
    "            solved = True\n",
    "        #to_print_all+=to_print+\"\\n\"\n",
    "\n",
    "        if not solved: \n",
    "            for k in range(len(to_print)):\n",
    "                current_data = [possible_guess for possible_guess in current_data if not remove_guess(k,possible_guess)]\n",
    "            guess =  np.random.choice(current_data)\n",
    "        else :\n",
    "            return attempt\n"
   ]
  },
  {
   "cell_type": "markdown",
   "metadata": {},
   "source": [
    "000000=0 BAG#FUCKIDAHO\n",
    "+-56=-56 strexicious\n",
    "0123=123 strexicious\n",
    " 5+9-1=13 Ascended \n",
    "12+57=69 Diaram\n",
    "3-2+9=10 Me\n",
    "12-6+3=9 Me"
   ]
  },
  {
   "cell_type": "markdown",
   "metadata": {
    "id": "k2gbfUpudN7D"
   },
   "source": [
    "## Comparing Solvers and initials"
   ]
  },
  {
   "cell_type": "code",
   "execution_count": 25,
   "metadata": {
    "id": "NCxZdpI9dR0-"
   },
   "outputs": [
    {
     "data": {
      "text/plain": [
       "count    17723.000000\n",
       "mean         3.304125\n",
       "std          0.709408\n",
       "min          1.000000\n",
       "25%          3.000000\n",
       "50%          3.000000\n",
       "75%          4.000000\n",
       "max          8.000000\n",
       "dtype: float64"
      ]
     },
     "execution_count": 25,
     "metadata": {},
     "output_type": "execute_result"
    }
   ],
   "source": [
    "initial =\"12+57=69\"\n",
    "all_attempts = [how_good_N(initial,to_find_) for to_find_ in data_set_N2]\n",
    "s = pd.Series(all_attempts)\n",
    "s.describe()"
   ]
  },
  {
   "cell_type": "code",
   "execution_count": null,
   "metadata": {
    "id": "s3WG_R8qdmCG"
   },
   "outputs": [],
   "source": [
    "initial =\"1+2=03\"\n",
    "all_attempts = [how_good_random_N(initial,to_find_) for to_find_ in data_set_N2]\n",
    "s = pd.Series(all_attempts)\n",
    "s.describe()"
   ]
  },
  {
   "cell_type": "code",
   "execution_count": 61,
   "metadata": {
    "id": "wl-OIsm4fo1-"
   },
   "outputs": [],
   "source": [
    "initializations = [\"12+57=69\",\"000000=0\",\"+-56=-56\",\"0123=123\",\"5+9-1=13\",\"3-2+9=10\",\"12-6+3=9\"]\n",
    "data = [np.array([how_good_random_N(initial,to_find_) for to_find_ in data_set_N2]) for initial in initializations]\n",
    " "
   ]
  },
  {
   "cell_type": "code",
   "execution_count": 62,
   "metadata": {
    "id": "9DsqETf_hs4x"
   },
   "outputs": [
    {
     "data": {
      "text/html": [
       "<div>\n",
       "<style scoped>\n",
       "    .dataframe tbody tr th:only-of-type {\n",
       "        vertical-align: middle;\n",
       "    }\n",
       "\n",
       "    .dataframe tbody tr th {\n",
       "        vertical-align: top;\n",
       "    }\n",
       "\n",
       "    .dataframe thead th {\n",
       "        text-align: right;\n",
       "    }\n",
       "</style>\n",
       "<table border=\"1\" class=\"dataframe\">\n",
       "  <thead>\n",
       "    <tr style=\"text-align: right;\">\n",
       "      <th></th>\n",
       "      <th>12+57=69</th>\n",
       "      <th>000000=0</th>\n",
       "      <th>+-56=-56</th>\n",
       "      <th>0123=123</th>\n",
       "      <th>5+9-1=13</th>\n",
       "      <th>3-2+9=10</th>\n",
       "      <th>12-6+3=9</th>\n",
       "    </tr>\n",
       "  </thead>\n",
       "  <tbody>\n",
       "    <tr>\n",
       "      <th>0</th>\n",
       "      <td>4</td>\n",
       "      <td>4</td>\n",
       "      <td>3</td>\n",
       "      <td>3</td>\n",
       "      <td>5</td>\n",
       "      <td>3</td>\n",
       "      <td>3</td>\n",
       "    </tr>\n",
       "    <tr>\n",
       "      <th>1</th>\n",
       "      <td>3</td>\n",
       "      <td>4</td>\n",
       "      <td>5</td>\n",
       "      <td>3</td>\n",
       "      <td>5</td>\n",
       "      <td>4</td>\n",
       "      <td>4</td>\n",
       "    </tr>\n",
       "    <tr>\n",
       "      <th>2</th>\n",
       "      <td>3</td>\n",
       "      <td>4</td>\n",
       "      <td>3</td>\n",
       "      <td>4</td>\n",
       "      <td>4</td>\n",
       "      <td>3</td>\n",
       "      <td>3</td>\n",
       "    </tr>\n",
       "    <tr>\n",
       "      <th>3</th>\n",
       "      <td>4</td>\n",
       "      <td>5</td>\n",
       "      <td>4</td>\n",
       "      <td>4</td>\n",
       "      <td>3</td>\n",
       "      <td>5</td>\n",
       "      <td>4</td>\n",
       "    </tr>\n",
       "    <tr>\n",
       "      <th>4</th>\n",
       "      <td>4</td>\n",
       "      <td>4</td>\n",
       "      <td>4</td>\n",
       "      <td>4</td>\n",
       "      <td>3</td>\n",
       "      <td>2</td>\n",
       "      <td>4</td>\n",
       "    </tr>\n",
       "    <tr>\n",
       "      <th>...</th>\n",
       "      <td>...</td>\n",
       "      <td>...</td>\n",
       "      <td>...</td>\n",
       "      <td>...</td>\n",
       "      <td>...</td>\n",
       "      <td>...</td>\n",
       "      <td>...</td>\n",
       "    </tr>\n",
       "    <tr>\n",
       "      <th>17718</th>\n",
       "      <td>3</td>\n",
       "      <td>4</td>\n",
       "      <td>4</td>\n",
       "      <td>2</td>\n",
       "      <td>2</td>\n",
       "      <td>4</td>\n",
       "      <td>4</td>\n",
       "    </tr>\n",
       "    <tr>\n",
       "      <th>17719</th>\n",
       "      <td>3</td>\n",
       "      <td>3</td>\n",
       "      <td>4</td>\n",
       "      <td>4</td>\n",
       "      <td>3</td>\n",
       "      <td>3</td>\n",
       "      <td>3</td>\n",
       "    </tr>\n",
       "    <tr>\n",
       "      <th>17720</th>\n",
       "      <td>3</td>\n",
       "      <td>4</td>\n",
       "      <td>4</td>\n",
       "      <td>3</td>\n",
       "      <td>4</td>\n",
       "      <td>3</td>\n",
       "      <td>4</td>\n",
       "    </tr>\n",
       "    <tr>\n",
       "      <th>17721</th>\n",
       "      <td>4</td>\n",
       "      <td>5</td>\n",
       "      <td>3</td>\n",
       "      <td>3</td>\n",
       "      <td>4</td>\n",
       "      <td>4</td>\n",
       "      <td>2</td>\n",
       "    </tr>\n",
       "    <tr>\n",
       "      <th>17722</th>\n",
       "      <td>4</td>\n",
       "      <td>4</td>\n",
       "      <td>4</td>\n",
       "      <td>3</td>\n",
       "      <td>3</td>\n",
       "      <td>3</td>\n",
       "      <td>3</td>\n",
       "    </tr>\n",
       "  </tbody>\n",
       "</table>\n",
       "<p>17723 rows × 7 columns</p>\n",
       "</div>"
      ],
      "text/plain": [
       "       12+57=69  000000=0  +-56=-56  0123=123  5+9-1=13  3-2+9=10  12-6+3=9\n",
       "0             4         4         3         3         5         3         3\n",
       "1             3         4         5         3         5         4         4\n",
       "2             3         4         3         4         4         3         3\n",
       "3             4         5         4         4         3         5         4\n",
       "4             4         4         4         4         3         2         4\n",
       "...         ...       ...       ...       ...       ...       ...       ...\n",
       "17718         3         4         4         2         2         4         4\n",
       "17719         3         3         4         4         3         3         3\n",
       "17720         3         4         4         3         4         3         4\n",
       "17721         4         5         3         3         4         4         2\n",
       "17722         4         4         4         3         3         3         3\n",
       "\n",
       "[17723 rows x 7 columns]"
      ]
     },
     "execution_count": 62,
     "metadata": {},
     "output_type": "execute_result"
    }
   ],
   "source": [
    "df_data = pd.DataFrame(data, index =initializations).T\n",
    "df_data"
   ]
  },
  {
   "cell_type": "code",
   "execution_count": 76,
   "metadata": {},
   "outputs": [
    {
     "data": {
      "image/png": "[encoded data removed]",
      "text/plain": [
       "<Figure size 432x288 with 1 Axes>"
      ]
     },
     "metadata": {
      "needs_background": "light"
     },
     "output_type": "display_data"
    }
   ],
   "source": [
    "\n",
    "ax = sns.boxplot( data=df_data,width=0.25)\n",
    "\n",
    "ax.set_xticklabels(ax.get_xticklabels(), rotation=30, ha=\"right\")\n",
    "plt.tight_layout()\n",
    "plt.show()"
   ]
  },
  {
   "cell_type": "code",
   "execution_count": 44,
   "metadata": {},
   "outputs": [],
   "source": [
    "df_data = df_data.astype('float')"
   ]
  },
  {
   "cell_type": "code",
   "execution_count": 49,
   "metadata": {
    "id": "yDoExNodhwNF"
   },
   "outputs": [
    {
     "data": {
      "image/png": "[encoded data removed]",
      "text/plain": [
       "<Figure size 432x288 with 1 Axes>"
      ]
     },
     "metadata": {
      "needs_background": "light"
     },
     "output_type": "display_data"
    }
   ],
   "source": [
    "boxplot = df_data.boxplot( notch=True)\n",
    "#sns.boxplot( data=df_data);"
   ]
  },
  {
   "cell_type": "code",
   "execution_count": null,
   "metadata": {},
   "outputs": [],
   "source": [
    "df_data.pivot(index=\"year\", columns=\"month\", values=\"passengers\")"
   ]
  },
  {
   "cell_type": "code",
   "execution_count": 77,
   "metadata": {},
   "outputs": [
    {
     "name": "stdout",
     "output_type": "stream",
     "text": [
      "count    17723.000000\n",
      "mean         3.281047\n",
      "std          0.695606\n",
      "min          1.000000\n",
      "25%          3.000000\n",
      "50%          3.000000\n",
      "75%          4.000000\n",
      "max          8.000000\n",
      "Name: 12+57=69, dtype: float64\n",
      "\n",
      "\n",
      "count    17723.000000\n",
      "mean         4.308469\n",
      "std          0.820011\n",
      "min          2.000000\n",
      "25%          4.000000\n",
      "50%          4.000000\n",
      "75%          5.000000\n",
      "max         10.000000\n",
      "Name: 000000=0, dtype: float64\n",
      "\n",
      "\n",
      "count    17723.000000\n",
      "mean         3.956046\n",
      "std          0.805507\n",
      "min          2.000000\n",
      "25%          3.000000\n",
      "50%          4.000000\n",
      "75%          4.000000\n",
      "max          9.000000\n",
      "Name: +-56=-56, dtype: float64\n",
      "\n",
      "\n",
      "count    17723.000000\n",
      "mean         3.839587\n",
      "std          0.793586\n",
      "min          2.000000\n",
      "25%          3.000000\n",
      "50%          4.000000\n",
      "75%          4.000000\n",
      "max          9.000000\n",
      "Name: 0123=123, dtype: float64\n",
      "\n",
      "\n",
      "count    17723.000000\n",
      "mean         3.554082\n",
      "std          0.786514\n",
      "min          1.000000\n",
      "25%          3.000000\n",
      "50%          3.000000\n",
      "75%          4.000000\n",
      "max          9.000000\n",
      "Name: 5+9-1=13, dtype: float64\n",
      "\n",
      "\n",
      "count    17723.000000\n",
      "mean         3.516335\n",
      "std          0.822876\n",
      "min          1.000000\n",
      "25%          3.000000\n",
      "50%          3.000000\n",
      "75%          4.000000\n",
      "max          9.000000\n",
      "Name: 3-2+9=10, dtype: float64\n",
      "\n",
      "\n",
      "count    17723.000000\n",
      "mean         3.444394\n",
      "std          0.759098\n",
      "min          1.000000\n",
      "25%          3.000000\n",
      "50%          3.000000\n",
      "75%          4.000000\n",
      "max          8.000000\n",
      "Name: 12-6+3=9, dtype: float64\n",
      "\n",
      "\n"
     ]
    }
   ],
   "source": [
    "for initial in initializations:\n",
    "    s = pd.Series(df_data[initial])\n",
    "    print(s.describe())\n",
    "    print(\"\\n\")"
   ]
  },
  {
   "cell_type": "markdown",
   "metadata": {},
   "source": [
    "### Solvers with similarity:"
   ]
  },
  {
   "cell_type": "code",
   "execution_count": 78,
   "metadata": {},
   "outputs": [],
   "source": [
    "from difflib import SequenceMatcher\n",
    "\n",
    "def similar(a, b):\n",
    "    return SequenceMatcher(None, a, b).ratio()\n",
    "\n",
    "def pick_by_distance_1(last_guesss,current_data):\n",
    "  distances ={}\n",
    "  for x_d in current_data:\n",
    "    distances[x_d]=jellyfish.jaro_distance(last_guesss ,x_d )\n",
    "  return min(distances, key=distances.get)\n",
    "\n",
    "def pick_by_distance_2(last_guesss,current_data):\n",
    "  distances ={}\n",
    "  for x_d in current_data:\n",
    "    distances[x_d]=jellyfish.jaro_winkler_similarity(last_guesss ,x_d )\n",
    "  return min(distances, key=distances.get)\n",
    "\n",
    "def pick_by_distance_3(last_guesss,current_data):\n",
    "  distances ={}\n",
    "  for x_d in current_data:\n",
    "    distances[x_d]=similar(last_guesss ,x_d )\n",
    "  return min(distances, key=distances.get)\n",
    "\n",
    "def pick_by_distance_4(last_guesss,current_data):\n",
    "  distances ={}\n",
    "  for x_d in current_data:\n",
    "    distances[x_d]=jellyfish.hamming_distance(last_guesss ,x_d )\n",
    "  return max(distances, key=distances.get)"
   ]
  },
  {
   "cell_type": "code",
   "execution_count": 82,
   "metadata": {},
   "outputs": [],
   "source": [
    "def how_good_distance_1(initial,to_find):\n",
    "\n",
    "  current_data = data_set_N2.copy()\n",
    "  if initial in current_data:\n",
    "    current_data.remove(initial)\n",
    "  attempt =0\n",
    "  solved = False\n",
    "  guess = initial\n",
    "  #to_print_all=\"\"\n",
    "\n",
    "  def remove_guess(k,possible_guess):\n",
    "    if to_print[k]==\"+\":\n",
    "      if guess[k]!=possible_guess[k] :\n",
    "        return True \n",
    "    elif to_print[k]==\"-\":\n",
    "      if guess[k] in possible_guess :\n",
    "        return True \n",
    "    elif to_print[k]==u\"\\u00B1\":\n",
    "      if (guess[k] not in possible_guess) or guess[k]==possible_guess[k] :\n",
    "        return True \n",
    "    return False\n",
    "\n",
    "  while not solved:\n",
    "    attempt+=1\n",
    "    # print(\"attempt number \", attempt)\n",
    "\n",
    "    to_print =\"\"\n",
    "    for i in range(len(guess)) :\n",
    "      if guess[i] in to_find:\n",
    "        if guess[i] == to_find[i]:\n",
    "          to_print+=\"+\"\n",
    "        else :\n",
    "          to_print+=u\"\\u00B1\"\n",
    "      else :\n",
    "        to_print+=\"-\"\n",
    "    if to_print==\"++++++\":\n",
    "      solved = True\n",
    "    #to_print_all+=to_print+\"\\n\"\n",
    "\n",
    "    #looking for a solution\n",
    "    #not best\n",
    "    if not solved: \n",
    "      for k in range(len(to_print)):\n",
    "        current_data = [possible_guess for possible_guess in current_data if not remove_guess(k,possible_guess)]\n",
    "      guess =  pick_by_distance_1(guess,current_data)\n",
    "    else :\n",
    "      return attempt\n",
    "\n",
    "\n",
    "def how_good_distance_2(initial,to_find):\n",
    "\n",
    "  current_data = data_set_N2.copy()\n",
    "  if initial in current_data:\n",
    "    current_data.remove(initial)\n",
    "  attempt =0\n",
    "  solved = False\n",
    "  guess = initial\n",
    "  #to_print_all=\"\"\n",
    "\n",
    "  def remove_guess(k,possible_guess):\n",
    "    if to_print[k]==\"+\":\n",
    "      if guess[k]!=possible_guess[k] :\n",
    "        return True \n",
    "    elif to_print[k]==\"-\":\n",
    "      if guess[k] in possible_guess :\n",
    "        return True \n",
    "    elif to_print[k]==u\"\\u00B1\":\n",
    "      if (guess[k] not in possible_guess) or guess[k]==possible_guess[k] :\n",
    "        return True \n",
    "    return False\n",
    "\n",
    "  while not solved:\n",
    "    attempt+=1\n",
    "    # print(\"attempt number \", attempt)\n",
    "\n",
    "    to_print =\"\"\n",
    "    for i in range(len(guess)) :\n",
    "      if guess[i] in to_find:\n",
    "        if guess[i] == to_find[i]:\n",
    "          to_print+=\"+\"\n",
    "        else :\n",
    "          to_print+=u\"\\u00B1\"\n",
    "      else :\n",
    "        to_print+=\"-\"\n",
    "    if to_print==\"++++++\":\n",
    "      solved = True\n",
    "    #to_print_all+=to_print+\"\\n\"\n",
    "\n",
    "    #looking for a solution\n",
    "    #not best\n",
    "    if not solved: \n",
    "      for k in range(len(to_print)):\n",
    "        current_data = [possible_guess for possible_guess in current_data if not remove_guess(k,possible_guess)]\n",
    "      guess =  pick_by_distance_2(guess,current_data)\n",
    "    else :\n",
    "      return attempt\n",
    "\n",
    "def how_good_distance_3(initial,to_find):\n",
    "\n",
    "  current_data = data_set_N2.copy()\n",
    "  if initial in current_data:\n",
    "    current_data.remove(initial)\n",
    "  attempt =0\n",
    "  solved = False\n",
    "  guess = initial\n",
    "  #to_print_all=\"\"\n",
    "\n",
    "  def remove_guess(k,possible_guess):\n",
    "    if to_print[k]==\"+\":\n",
    "      if guess[k]!=possible_guess[k] :\n",
    "        return True \n",
    "    elif to_print[k]==\"-\":\n",
    "      if guess[k] in possible_guess :\n",
    "        return True \n",
    "    elif to_print[k]==u\"\\u00B1\":\n",
    "      if (guess[k] not in possible_guess) or guess[k]==possible_guess[k] :\n",
    "        return True \n",
    "    return False\n",
    "\n",
    "  while not solved:\n",
    "    attempt+=1\n",
    "    # print(\"attempt number \", attempt)\n",
    "\n",
    "    to_print =\"\"\n",
    "    for i in range(len(guess)) :\n",
    "      if guess[i] in to_find:\n",
    "        if guess[i] == to_find[i]:\n",
    "          to_print+=\"+\"\n",
    "        else :\n",
    "          to_print+=u\"\\u00B1\"\n",
    "      else :\n",
    "        to_print+=\"-\"\n",
    "    if to_print==\"++++++\":\n",
    "      solved = True\n",
    "    #to_print_all+=to_print+\"\\n\"\n",
    "\n",
    "    #looking for a solution\n",
    "    #not best\n",
    "    if not solved: \n",
    "      for k in range(len(to_print)):\n",
    "        current_data = [possible_guess for possible_guess in current_data if not remove_guess(k,possible_guess)]\n",
    "      guess =  pick_by_distance_3(guess,current_data)\n",
    "    else :\n",
    "      return attempt\n",
    "\n",
    "def how_good_distance_4(initial,to_find):\n",
    "\n",
    "  current_data = data_set_N2.copy()\n",
    "  if initial in current_data:\n",
    "    current_data.remove(initial)\n",
    "  attempt =0\n",
    "  solved = False\n",
    "  guess = initial\n",
    "  #to_print_all=\"\"\n",
    "\n",
    "  def remove_guess(k,possible_guess):\n",
    "    if to_print[k]==\"+\":\n",
    "      if guess[k]!=possible_guess[k] :\n",
    "        return True \n",
    "    elif to_print[k]==\"-\":\n",
    "      if guess[k] in possible_guess :\n",
    "        return True \n",
    "    elif to_print[k]==u\"\\u00B1\":\n",
    "      if (guess[k] not in possible_guess) or guess[k]==possible_guess[k] :\n",
    "        return True \n",
    "    return False\n",
    "\n",
    "  while not solved:\n",
    "    attempt+=1\n",
    "    # print(\"attempt number \", attempt)\n",
    "\n",
    "    to_print =\"\"\n",
    "    for i in range(len(guess)) :\n",
    "      if guess[i] in to_find:\n",
    "        if guess[i] == to_find[i]:\n",
    "          to_print+=\"+\"\n",
    "        else :\n",
    "          to_print+=u\"\\u00B1\"\n",
    "      else :\n",
    "        to_print+=\"-\"\n",
    "    if to_print==\"++++++\":\n",
    "      solved = True\n",
    "    #to_print_all+=to_print+\"\\n\"\n",
    "\n",
    "    #looking for a solution\n",
    "    #not best\n",
    "    if not solved: \n",
    "      for k in range(len(to_print)):\n",
    "        current_data = [possible_guess for possible_guess in current_data if not remove_guess(k,possible_guess)]\n",
    "      guess =  pick_by_distance_4(guess,current_data)\n",
    "    else :\n",
    "      return attempt\n"
   ]
  },
  {
   "cell_type": "code",
   "execution_count": null,
   "metadata": {},
   "outputs": [],
   "source": [
    "initial= \"12+57=69\" \n",
    "solvers =[how_good_N,how_good_random_N,how_good_distance_1,how_good_distance_2,how_good_distance_3,how_good_distance_4]\n",
    "data = [np.array([solver(initial,to_find_) for to_find_ in data_set_N2]) for solver in solvers]\n",
    "df_data = pd.DataFrame(data, index =[solver.__name__ for solver in solvers]).T\n",
    "df_data\n"
   ]
  },
  {
   "cell_type": "code",
   "execution_count": null,
   "metadata": {},
   "outputs": [],
   "source": [
    "\n",
    "ax = sns.boxplot( data=df_data,width=0.25)\n",
    "\n",
    "ax.set_xticklabels(ax.get_xticklabels(), rotation=30, ha=\"right\")\n",
    "plt.tight_layout()\n",
    "plt.show()"
   ]
  },
  {
   "cell_type": "code",
   "execution_count": null,
   "metadata": {},
   "outputs": [],
   "source": [
    "for solver in solvers :\n",
    "  print(solver.__name__)\n",
    "  print(pd.Series(df_data[solver.__name__]).describe())"
   ]
  },
  {
   "cell_type": "markdown",
   "metadata": {},
   "source": [
    "#### Frequency score"
   ]
  },
  {
   "cell_type": "code",
   "execution_count": null,
   "metadata": {},
   "outputs": [],
   "source": [
    "sorted_dict = dict(sorted(stat_dict.items(), key=lambda item: item[1], reverse=True))\n",
    "def normalize(d, target=1.0):\n",
    "   raw = sum(d.values())\n",
    "   factor = target/raw\n",
    "   return {key:value*factor for key,value in d.items()}\n",
    "sorted_dict_nor=normalize(sorted_dict, target=1.0)\n",
    "\n",
    "def scoring(some_string):\n",
    "  return sum([sorted_dict_nor[i]*some_string.count(i) for i in some_string if i!=\"=\"])"
   ]
  },
  {
   "cell_type": "code",
   "execution_count": null,
   "metadata": {},
   "outputs": [],
   "source": [
    "def pick_by_score(current_data):\n",
    "  distances ={}\n",
    "  for x_d in current_data:\n",
    "    distances[x_d]=scoring( x_d )\n",
    "  return max(distances, key=distances.get)"
   ]
  },
  {
   "cell_type": "code",
   "execution_count": null,
   "metadata": {},
   "outputs": [],
   "source": [
    "def how_good_score(initial,to_find):\n",
    "\n",
    "  current_data = data_set_N2.copy()\n",
    "  if initial in current_data:\n",
    "    current_data.remove(initial)\n",
    "  attempt =0\n",
    "  solved = False\n",
    "  guess = initial\n",
    "  #to_print_all=\"\"\n",
    "\n",
    "  def remove_guess(k,possible_guess):\n",
    "    if to_print[k]==\"+\":\n",
    "      if guess[k]!=possible_guess[k] :\n",
    "        return True \n",
    "    elif to_print[k]==\"-\":\n",
    "      if guess[k] in possible_guess :\n",
    "        return True \n",
    "    elif to_print[k]==u\"\\u00B1\":\n",
    "      if (guess[k] not in possible_guess) or guess[k]==possible_guess[k] :\n",
    "        return True \n",
    "    return False\n",
    "\n",
    "  while not solved:\n",
    "    attempt+=1\n",
    "    # print(\"attempt number \", attempt)\n",
    "\n",
    "    to_print =\"\"\n",
    "    for i in range(len(guess)) :\n",
    "      if guess[i] in to_find:\n",
    "        if guess[i] == to_find[i]:\n",
    "          to_print+=\"+\"\n",
    "        else :\n",
    "          to_print+=u\"\\u00B1\"\n",
    "      else :\n",
    "        to_print+=\"-\"\n",
    "    if to_print==\"++++++\":\n",
    "      solved = True\n",
    "    #to_print_all+=to_print+\"\\n\"\n",
    "\n",
    "    #looking for a solution\n",
    "    #not best\n",
    "    if not solved: \n",
    "      for k in range(len(to_print)):\n",
    "        current_data = [possible_guess for possible_guess in current_data if not remove_guess(k,possible_guess)]\n",
    "      guess =  pick_by_score(current_data)\n",
    "    else :\n",
    "      return attempt"
   ]
  },
  {
   "cell_type": "code",
   "execution_count": null,
   "metadata": {},
   "outputs": [],
   "source": [
    "initial= \"12+57=69\" \n",
    "solvers =[how_good_score, how_good_N,how_good_random_N,how_good_distance_1,how_good_distance_2,how_good_distance_3,how_good_distance_4]\n",
    "data = [np.array([solver(initial,to_find_) for to_find_ in data_set_N2]) for solver in solvers]\n",
    "df_data = pd.DataFrame(data, index =[solver.__name__ for solver in solvers]).T\n",
    "sns.boxplot( data=df_data);"
   ]
  },
  {
   "cell_type": "code",
   "execution_count": null,
   "metadata": {},
   "outputs": [],
   "source": [
    "\n",
    "ax = sns.boxplot( data=df_data,width=0.25)\n",
    "\n",
    "ax.set_xticklabels(ax.get_xticklabels(), rotation=30, ha=\"right\")\n",
    "plt.tight_layout()\n",
    "plt.show()"
   ]
  },
  {
   "cell_type": "code",
   "execution_count": null,
   "metadata": {},
   "outputs": [],
   "source": [
    "for solver in solvers :\n",
    "  print(solver.__name__)\n",
    "  print(pd.Series(df_data[solver.__name__]).describe())"
   ]
  }
 ],
 "metadata": {
  "colab": {
   "name": "Solving_Nerdle.ipynb",
   "provenance": [],
   "toc_visible": true
  },
  "kernelspec": {
   "display_name": "Python 3",
   "language": "python",
   "name": "python3"
  },
  "language_info": {
   "codemirror_mode": {
    "name": "ipython",
    "version": 3
   },
   "file_extension": ".py",
   "mimetype": "text/x-python",
   "name": "python",
   "nbconvert_exporter": "python",
   "pygments_lexer": "ipython3",
   "version": "3.8.8"
  }
 },
 "nbformat": 4,
 "nbformat_minor": 4
}
